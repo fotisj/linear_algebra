{
 "cells": [
  {
   "cell_type": "markdown",
   "metadata": {
    "toc": "true"
   },
   "source": [
    "# Table of Contents\n",
    " <p><div class=\"lev1 toc-item\"><a href=\"#Matrizen\" data-toc-modified-id=\"Matrizen-1\"><span class=\"toc-item-num\">1&nbsp;&nbsp;</span>Matrizen</a></div><div class=\"lev2 toc-item\"><a href=\"#Verhältnis-von-Matrizen-und-Vektoren\" data-toc-modified-id=\"Verhältnis-von-Matrizen-und-Vektoren-11\"><span class=\"toc-item-num\">1.1&nbsp;&nbsp;</span>Verhältnis von Matrizen und Vektoren</a></div><div class=\"lev2 toc-item\"><a href=\"#Sonderfälle\" data-toc-modified-id=\"Sonderfälle-12\"><span class=\"toc-item-num\">1.2&nbsp;&nbsp;</span>Sonderfälle</a></div><div class=\"lev2 toc-item\"><a href=\"#Rechenoperationen-für-Matrizen\" data-toc-modified-id=\"Rechenoperationen-für-Matrizen-13\"><span class=\"toc-item-num\">1.3&nbsp;&nbsp;</span>Rechenoperationen für Matrizen</a></div><div class=\"lev3 toc-item\"><a href=\"#Addition-von-Matrizen\" data-toc-modified-id=\"Addition-von-Matrizen-131\"><span class=\"toc-item-num\">1.3.1&nbsp;&nbsp;</span>Addition von Matrizen</a></div><div class=\"lev3 toc-item\"><a href=\"#Multiplikation-mit-einem-Skalar\" data-toc-modified-id=\"Multiplikation-mit-einem-Skalar-132\"><span class=\"toc-item-num\">1.3.2&nbsp;&nbsp;</span>Multiplikation mit einem Skalar</a></div><div class=\"lev3 toc-item\"><a href=\"#Multiplikation-von-Matrizen\" data-toc-modified-id=\"Multiplikation-von-Matrizen-133\"><span class=\"toc-item-num\">1.3.3&nbsp;&nbsp;</span>Multiplikation von Matrizen</a></div><div class=\"lev3 toc-item\"><a href=\"#Die-Inverse-einer-Matrix\" data-toc-modified-id=\"Die-Inverse-einer-Matrix-134\"><span class=\"toc-item-num\">1.3.4&nbsp;&nbsp;</span>Die Inverse einer Matrix</a></div><div class=\"lev3 toc-item\"><a href=\"#Transposition-einer-Matrix\" data-toc-modified-id=\"Transposition-einer-Matrix-135\"><span class=\"toc-item-num\">1.3.5&nbsp;&nbsp;</span>Transposition einer Matrix</a></div><div class=\"lev2 toc-item\"><a href=\"#Rechenregeln-für-Matrizen\" data-toc-modified-id=\"Rechenregeln-für-Matrizen-14\"><span class=\"toc-item-num\">1.4&nbsp;&nbsp;</span>Rechenregeln für Matrizen</a></div><div class=\"lev2 toc-item\"><a href=\"#Matrizen-und-lineare-Gleichungen\" data-toc-modified-id=\"Matrizen-und-lineare-Gleichungen-15\"><span class=\"toc-item-num\">1.5&nbsp;&nbsp;</span>Matrizen und lineare Gleichungen</a></div><div class=\"lev1 toc-item\"><a href=\"#Matrizen-in-numpy\" data-toc-modified-id=\"Matrizen-in-numpy-2\"><span class=\"toc-item-num\">2&nbsp;&nbsp;</span>Matrizen in numpy</a></div><div class=\"lev2 toc-item\"><a href=\"#Lineare-Gleichungssysteme-lösen\" data-toc-modified-id=\"Lineare-Gleichungssysteme-lösen-21\"><span class=\"toc-item-num\">2.1&nbsp;&nbsp;</span>Lineare Gleichungssysteme lösen</a></div><div class=\"lev1 toc-item\"><a href=\"#Literatur\" data-toc-modified-id=\"Literatur-3\"><span class=\"toc-item-num\">3&nbsp;&nbsp;</span>Literatur</a></div>"
   ]
  },
  {
   "cell_type": "markdown",
   "metadata": {},
   "source": [
    "# Matrizen\n",
    "\n",
    "Eine Matrix ist eine Anordnung von Einzelwerten in Spalten und Zeilen. Die folgende Matrix hat 4 Zeilen und 3 Spalten: \n",
    "\n",
    "$$\n",
    "A = \\begin{pmatrix} 2 & 7 & 9\\\\\n",
    "11 & 1 & 4\\\\\n",
    "4 & 12 & 1\\\\\n",
    "1 & 2 & 2\n",
    "\\end{pmatrix}\n",
    "$$\n",
    "\n",
    "Die 'Zellen' einer Matrix werden über die Zeilen/Spalten-Koordinaten angegeben. In allen Fällen wird immer zuerst die Zeile, dann die Spalte genannt. Allgemein kann man also jede Matrix mit m Zeilen und n Spalten so beschreiben:\n",
    "\n",
    "$$\n",
    "A = \\begin{pmatrix} a_{11} & a_{12} & \\cdots & a_{1n}\\\\\n",
    " a_{21} & a_{22} & \\cdots & a_{2n}\\\\\n",
    " \\vdots & \\vdots & \\vdots & \\vdots\\\\\n",
    " a_{m1} & a_{m2} & \\cdots & a_{mn}\\\\\n",
    "\\end{pmatrix}\n",
    "$$\n",
    "m x n sind die <b>Dimensionen</b> der Matrix.\n",
    "\n",
    "## Verhältnis von Matrizen und Vektoren\n",
    "Vektoren können als eindimensionale Matrizen verstanden werden. Das hier ist eine Reihenvektor:\n",
    "\n",
    "$$\n",
    "A = \\begin{pmatrix} 2 & 7 & 9\\end{pmatrix}\n",
    "$$\n",
    "\n",
    "Normalerweise werden Vektoren jedoch als Spaltenvektoren aufgefasst, also so:\n",
    "\n",
    "$$\n",
    "A = \\begin{pmatrix} 2 \\\\ 7 \\\\ 9\\end{pmatrix}\n",
    "$$\n",
    "\n",
    "## Sonderfälle\n",
    "Es gibt zwei Sonderfälle von Matrizen, die häufig auftreten:\n",
    "Die <b>quadratische Matrix</b>, die ebensoviele Spalten wie Zeilen hat:\n",
    "$$\n",
    "A = \\begin{pmatrix} 2 & 7 & 9\\\\\n",
    "11 & 1 & 4\\\\\n",
    "4 & 12 & 1\n",
    "\\end{pmatrix}\n",
    "$$\n",
    "\n",
    "Die Elemente der Diagonalen von Linksoben nach Rechtsunten werden als Diagonalelemmente oder <b>Haupt-Diagonale</b> bezeichnet. \n",
    "\n",
    "Sowie die <b>Nullmatrix</b>:\n",
    "$$\n",
    "0 = \\begin{pmatrix} 0 & 0  & 0\\\\\n",
    "0 & 0 & 0\\\\\n",
    "0 & 0 & 0\n",
    "\\end{pmatrix}\n",
    "$$\n",
    "\n",
    "\n",
    "<b>Obere Dreiecksmatrix</b>\n",
    "Eine obere Dreiecksmatrix ist eine quadratische Matrix, deren linke untere Hälfte aus Nullen besteht:\n",
    "$$\n",
    "A = \\begin{pmatrix}a_{11} & a_{12} & \\cdots & a_{1n} \\\\ \n",
    "0 & a_{22} & \\cdots & a_{2n} \\\\\n",
    "\\vdots & \\vdots & \\ddots & \\vdots \\\\\n",
    "0 & 0 & \\cdots & a_{nn} \\\\\n",
    "\\end{pmatrix}\n",
    "$$\n",
    "\n",
    "<b>Untere  Dreiecksmatrix</b>\n",
    "\n",
    "Eine untere Dreiecksmatrix ist eine quadratische Matrix, deren rechte obere Hälfte aus Nullen besteht:\n",
    "$$\n",
    "A = \\begin{pmatrix}a_{11} & 0 & \\cdots & 0 \\\\ \n",
    "a_{21} & a_{22} & \\cdots & 0 \\\\\n",
    "\\vdots & \\vdots & \\ddots & \\vdots \\\\\n",
    "a_{n1} & a_{n2} & \\cdots & a_{nn} \\\\\n",
    "\\end{pmatrix}\n",
    "$$\n",
    "\n",
    "\n",
    "<b>Diagonalmatrix</b>\n",
    "Eine quadratische Matrix bei der alle Elemente 0 sind und nur die Hauptdiagonale Werte ungleich 0 hat, nennt man eine Diagonalmatrix. \n",
    "\n",
    "$$\n",
    "A = \\begin{pmatrix} a_{11}& 0 & \\cdots  & 0\\\\\n",
    "                       0 & a_{22} & \\cdots & 0\\\\\n",
    "                    \\vdots & \\vdots & \\ddots & \\vdots\\\\\n",
    "                    0 & 0 & 0 & a_{nn}\n",
    "\\end{pmatrix}\n",
    "$$\n",
    "\n",
    "<b>Einheitsmatrix</b>\n",
    "Diese Matrix ist ein Sonderfall der Diagonalmatrix. Die Werte der Diagonale sind alle 1. \n",
    "$$\n",
    "\\mathbb{I} = \\begin{pmatrix} 1& 0 & \\cdots  & 0\\\\\n",
    "                       0 & 1 & \\cdots & 0\\\\\n",
    "                    \\vdots & \\vdots & \\ddots & \\vdots\\\\\n",
    "                    0 & 0 & 0 & 1\n",
    "\\end{pmatrix}\n",
    "$$\n"
   ]
  },
  {
   "cell_type": "markdown",
   "metadata": {},
   "source": [
    "## Rechenoperationen für Matrizen\n",
    "\n",
    "### Addition von Matrizen\n",
    "Definiert ist nur die Addition von Matrizen mit der gleichen Dimension. Die Summe ist eine neue Matrix mit der gleichen Dimension, wobei die Elemente der Summe durch die Summe der Elemente in den Ausgangsmatrizen bestimmt werden Wenn wir also die Matrix A und die Matrix B addieren, dann werden die Elemente in der Summe C so berechnet:  $$ c_{11} = a_{11} + b_{11}$$ \n",
    "$$ c_{12} = a_{12} + b_{12}$$ \n",
    "usw. \n",
    "\n",
    "Hier ein Beispiel:\n",
    "$$\n",
    "A = \\begin{pmatrix}2 & 4 & 11\\\\\n",
    "3 & 2 & 4\n",
    "\\end{pmatrix}\n",
    "$$\n",
    "$$\n",
    "B = \\begin{pmatrix}3 & 7 & 2\\\\\n",
    "3 & 1 & 5\n",
    "\\end{pmatrix}\n",
    "$$\n",
    "$$\n",
    "A + B = \\begin{pmatrix}5 & 11 & 13\\\\\n",
    "6 & 3 & 9\n",
    "\\end{pmatrix}\n",
    "$$\n",
    "\n",
    "\n"
   ]
  },
  {
   "cell_type": "markdown",
   "metadata": {},
   "source": [
    "### Multiplikation mit einem Skalar\n",
    "Auch die Multiplikation mit einem Skalar funktioniert so, wie wir es bereits von der Vektoralgebra kennengelernt haben. Jedes Element der Matrix wird mit dem Skalar multipliziert: \n",
    "\n",
    "Beispiel:\n",
    "\n",
    "$$\n",
    "A = \\begin{pmatrix}2 & 4\\\\7 & 3\\end{pmatrix}\n",
    "$$\n",
    "\n",
    "$$ \n",
    "k A = k \\begin{pmatrix}2 & 4\\\\7 & 3\\end{pmatrix} = \\begin{pmatrix} 2k & 4k\\\\7k & 3k\\end{pmatrix}\n",
    "$$\n"
   ]
  },
  {
   "cell_type": "markdown",
   "metadata": {},
   "source": [
    "### Multiplikation von Matrizen\n",
    "Die meisten Rechenregeln, die man so kennt, sind kommutativ, z.B. im Fall der Addition: \n",
    "\n",
    "    a + b = b + a\n",
    "\n",
    "Das gilt nicht für die Multiplikation von Matrizen. \n",
    "$$\n",
    "A * B \\neq B * A\n",
    "$$\n",
    "\n",
    "Die Multiplikation zweier Matrizen A und B ist nur definiert, wenn die Anzahl der Spalten von A mit der Anzahl der Zeilen von B übereinstimmt. Wenn also A die Dimension m,n hat muss B die Dimension n, r haben. Das Ergebnis ist eine neue Matrix C, die die Dimension m, r hat. Zur Berechnung der Elemente von C gilt:\n",
    "\n",
    "$$\n",
    "c_{ij} = \\sum_{k=1}^n{a_{ik}b_{kj}} = a_{i1}b_{1j} + a_{i2}b_{2j} + \\cdots + a_{in}b_{nj}\n",
    "$$\n",
    "\n",
    "Nehmen wir den einfachen Fall dim(A) = (3,2)\n",
    "$$\n",
    "A = \\begin{pmatrix}3 & 5\\\\7 & 1\\\\9 & 2\\end{pmatrix}\n",
    "$$\n",
    "und dim B(2,3)\n",
    "$$\n",
    "B = \\begin{pmatrix}1 & 2 & 1\\\\5 & 6 & 2\\end{pmatrix}\n",
    "$$\n",
    "\n",
    "dann ist dim(C) = (3,3)\n",
    "\n",
    "Und das Ergebnis ist: \n",
    "\n",
    "\n",
    "Die einfachste Möglichkeit, die Matrixmultiplikation systematisch abzuarbeiten, ist Anwendung des Falk'schen Schemas. Es ordnet die Matrix A und B so an, dass evident ist, welche Elemente welcher Matrix multipliziert werden müssen:\n",
    "\n",
    "\n",
    "\n",
    "$$\n",
    "\\begin{equation*}\n",
    "\\begin{array}{@{}rl}\n",
    "    {B} \\ = \\\n",
    "    \\left(\n",
    "    \\begin{array}{c} b_{11} \\\\ \\vdots \\\\ b_{p1}\n",
    "          \\end{array}\n",
    "    \\begin{array}{c} \\cdots \\\\   \\\\ \\cdots \\end{array}\n",
    "\\fbox{$\\begin{array}{c} b_{1k} \\\\ \\vdots \\\\ b_{pk}\n",
    "    \\end{array}$}\n",
    "    \\begin{array}{c} \\cdots \\\\   \\\\ \\cdots \\end{array}\n",
    "    \\begin{array}{c} b_{1n} \\\\ \\vdots \\\\ b_{pn}\n",
    "          \\end{array}\n",
    "    \\right) \\, &\n",
    "\\\\\n",
    "    {A} \\ = \\\n",
    "    \\left(\n",
    "    \\begin{array}{c}\n",
    "        a_{11} \\quad \\cdots \\quad a_{1p} \\\\\n",
    "        \\ \\vdots \\hfill \\vdots \\quad  \\\\\n",
    "        \\fbox{$a_{i1} \\quad \\cdots \\quad a_{ip}$} \\\\\n",
    "        \\ \\vdots \\hfill \\vdots \\quad \\\\\n",
    "        a_{m1} \\quad \\cdots \\quad a_{mp}\n",
    "    \\end{array} \\right) \\\n",
    "    \\left(\n",
    "    \\begin{array}{c} c_{11} \\\\ \\vdots \\\\ c_{i1} \\\\\n",
    "        \\vdots \\\\ c_{m1}          \\end{array}\n",
    "    \\begin{array}{c} \\cdots \\\\   \\\\ \\cdots \\\\ \\\\ \\cdots \\end{array}\n",
    "        \\begin{array}{c} c_{1k} \\\\ \\vdots \\\\ \\fbox{$c_{ik}$} \\\\\n",
    "            \\vdots \\\\ c_{mk}\n",
    "    \\end{array}\n",
    "    \\begin{array}{c} \\cdots \\\\   \\\\ \\cdots \\\\ \\\\ \\cdots \\end{array}\n",
    "    \\begin{array}{c} c_{1n} \\\\ \\vdots \\\\ c_{in} \\\\\n",
    "        \\vdots \\\\ c_{mn}          \\end{array}\n",
    "    \\right) &  = \\ {C}\n",
    "\\end{array}\n",
    "\\end{equation*}$$\n",
    "\n",
    "\n",
    "\n"
   ]
  },
  {
   "cell_type": "markdown",
   "metadata": {},
   "source": [
    "Führen wir das an unserem einfachen Beispiel von oben durch:\n",
    "\n",
    "$$\n",
    "A = \\begin{pmatrix}3 & 5\\\\7 & 1\\\\9 & 2\\end{pmatrix}\n",
    "$$\n",
    "und dim B(2,3)\n",
    "$$\n",
    "B = \\begin{pmatrix}1 & 2 & 1\\\\5 & 6 & 2\\end{pmatrix}\n",
    "$$\n",
    "\n",
    "Wenn wir das Falk'sche Schema anwenden, ergibt sich folgendes Bild. Links sehen wir das Schema einschließlich des Ergebnisses und rechts, wie eine einzelne Zelle des Ergebnisses  berechnet wird.\n",
    "\n",
    "<img src=\"images\\matrix_mp.png\"/>\n",
    "\n"
   ]
  },
  {
   "cell_type": "markdown",
   "metadata": {},
   "source": [
    "### Die Inverse einer Matrix\n",
    "\n",
    "\n",
    "Wie wir gesehen haben, kann man mit Matrizen die gleichen Operationen durchführen kann wie z.B. mit reelen Zahlen: Addition (einschließlich der  Subtraktion) und Multiplikation. Wie sieht es mit der Division aus? Die spezifischen Rechenregeln der Multiplikation legen es schon nahe, dass die Division ein Sonderfall ist. Wenn wir mit reelen Arbeiten, dann entspricht die Division durch x der Multiplikation mit dem Kehrwert von x:\n",
    "\n",
    "$$\n",
    "a:x = a \\frac{1}{x}\n",
    "$$\n",
    "\n",
    "Der Kehrwert von x ist dadurch gekennzeichnet, dass gilt:\n",
    "\n",
    "$$\n",
    "x \\cdot \\frac{1}{x} = 1\n",
    "$$\n",
    "\n",
    "Stellt sich also erst einmal die Frage, ob für eine Matrix A eine andere Matrix existiert, mit der sie multipliziert das Matrix-Äquivalent zur 1 ergibt. Die 1 hat ja die Eigenschaft:\n",
    "\n",
    "$$\n",
    " 1 \\cdot a = a\n",
    "$$\n",
    "\n",
    "\n",
    "Entsprechend muss gelten:\n",
    "\n",
    "$$\n",
    "X \\cdot A = A\n",
    "$$\n",
    "\n",
    "Dieses X ist die Einheitsmatrix mit der passenden Dimension:\n",
    "\n",
    "$$\n",
    "A \\cdot \\mathbb{I}_n = \\mathbb{I}_m \\cdot A = A\n",
    "$$\n",
    "\n",
    "Zurück zur 'Division'. Das bedeutet also, wir suchen eine Matrix, für die gilt:\n",
    "\n",
    "$$\n",
    "A \\cdot X = \\mathbb{I}\n",
    "$$\n",
    "\n",
    "Eine quadratische Matrix, die diese Bedingung in Bezug auf A erfüllt, nennt man die <b>Inverse</b> zu A. Sie wird üblicherweise so geschrieben: \n",
    "\n",
    "$$\n",
    "A \\cdot A^{-1} = \\mathbb{I}\n",
    "$$\n",
    "\n",
    "Nicht jede quadratische Matrix hat eine Inverse. Diejenigen Matrizen, die eine Inverse haben, nennt man <b>reguläre</b> Matrizen; Matrizen, die keine Inverse haben, nennt man <b>singulär</b>.\n",
    "\n",
    "Wie ermittelt man, ob eine quadratische Matrix invertierbar ist? \n",
    "\n",
    "Wir wissen:\n",
    "\n",
    "$$\n",
    "A \\cdot A^{-1} = \\mathbb{I}\n",
    "$$\n",
    "\n",
    "\n",
    "Wenn A die Dimension (2,2) hat, dann gilt:\n",
    "\n",
    "$$\n",
    "\\begin{pmatrix}a_{11} & a_{12}\\\\a_{21} & a_{22}\\end{pmatrix} \\cdot \\begin{pmatrix}x_{11} & x_{12}\\\\x_{21} & x_{22}\\end{pmatrix} = \\begin{pmatrix}1 & 0\\\\0 & 1\\end{pmatrix}   \n",
    "$$\n",
    "\n",
    "Multipliziert man die Matrizen aus, dann ergeben sich folgende Gleichungen:\n",
    "\n",
    "\n"
   ]
  },
  {
   "cell_type": "markdown",
   "metadata": {},
   "source": [
    "$$\n",
    "a_{11}x_{11} + a_{12}x_{21} = 1 \n",
    "$$\n",
    "$$\n",
    "a_{21}x_{11} + a_{22}x_{21} = 0 \n",
    "$$\n",
    "$$\n",
    "a_{11}x_{12} + a_{12}x_{12} = 1 \n",
    "$$\n",
    "$$\n",
    "a_{21}x_{12} + a_{22}x_{22} = 0 \n",
    "$$\n",
    "\n",
    "Wir werden später bessere und schnellere Methoden zur Berechnung von Inversen kennenlernen"
   ]
  },
  {
   "cell_type": "markdown",
   "metadata": {},
   "source": [
    "### Transposition einer Matrix\n",
    "Schon aus praktischen Gründen spielt die Operation der Transposition eine wichtige Rolle: Sie macht aus den Spalten einer Matrix deren Zeilen und umgekehrt aus den Zeilen einer Matrix deren Spalten. Wenn man also etwa eine Term-Dokument-Matrix hat, d.h. eine Matrix, deren Zeilen jeweils einem Wort zugeordnet sind und deren Spalten jeweils ein Dokument repräsentieren, dann hat man nach der Transposition eine Dokument-Term-Matrix, in der jede Zeile die Häufigkeiten der Worte in einem Dokument anzeigt, während die Spalten nun jeweils die Häufigkeiten eines bestimmten Wortes anzeigen.\n",
    "Wenn \n",
    "$\n",
    "A = \\begin{pmatrix}3 & 7 & 4 & 6 \\\\\n",
    "                   7 & 2 & 1 & 9\n",
    "\\end{pmatrix}\n",
    "$\n",
    "\n",
    "dann ist \n",
    "\n",
    "$\n",
    "A^T = \\begin{pmatrix}3 & 7 \\\\\n",
    "                   7 & 2\\\\\n",
    "                   4 & 1\\\\\n",
    "                   6 & 9\n",
    "\\end{pmatrix}\n",
    "$\n",
    "\n",
    "Eine <b>symmetrische</b> Matrix ist eine Matrix für die gilt A = A<sup>T</sup>.\n",
    "\n",
    "Folgende Rechenregeln können den Umgang mit transponierten Matrizen erleichtern:\n",
    "\n",
    "$\n",
    "(A + B)^T = A^T + B^T\n",
    "$\n",
    "\n",
    "$\n",
    "(kA)^T = kA^T\n",
    "$\n",
    "\n",
    "$\n",
    "(A^T)^T = A\n",
    "$\n",
    "\n"
   ]
  },
  {
   "cell_type": "markdown",
   "metadata": {},
   "source": [
    "## Rechenregeln für Matrizen\n",
    "Da alle Matrizen mit der Dimension (m,n) einen Vektorraum bilden, gilt Folgendes:\n",
    "    \n",
    "A + B = B + A (Kommutativität)\n",
    "\n",
    "A + (B + c) = (A + B) + C (Assoziativität)\n",
    "\n",
    "A + <b>0</b> = A\n",
    "\n",
    "A + (-A) = <b>0</b>\n",
    "\n",
    "k(hA) = kh(A)\n",
    "\n",
    "1A = A\n",
    "\n",
    "k(A + B)  = kA + kB (Distributivität)\n",
    "\n",
    "(k + h) A = kA + hA (Distributivität)\n",
    "\n",
    "Die Dimension des Vektorraums ist (m,n)\n",
    "\n",
    "Wichtig: \n",
    "Die Operation A * B verändert die Dimension: wenn dim(A) = (m, n) und dim(B) = (n, r), dann ist dim(A*B) = (m, r). Vor allem aber gilt: \n",
    "$$\n",
    "A * B \\neq  B * A\n",
    "$$\n"
   ]
  },
  {
   "cell_type": "markdown",
   "metadata": {},
   "source": [
    "## Matrizen und lineare Gleichungen\n",
    "\n",
    "Ein lineares Gleichungssystem aus m Gleichungen mit n Unbekannten\n",
    "x1, x2, . . . , xn hat die Form\n",
    "\n",
    "$$\n",
    "a_{11}x_1 + a_{12}x_2 + · · · + a_{1n}x_n = b_1\n",
    "$$\n",
    "$$\n",
    "a_{21}x_1 + a_{22}x_2 + · · · + a_{2n}x_n = b_2\n",
    "$$\n",
    "$$\n",
    "\\cdots\n",
    "$$\n",
    "$$\n",
    "a_{m1}x_1 + a_ {m2}x_2 + · · · + a_{mn}x_n = b_m\n",
    "$$\n",
    "\n",
    "a<sub>ij</sub> nennt man die Koeffizienten des Gleichungssystems. Sind alle b<sub>i</sub> gleich null, so heißt das\n",
    "Gleichungssystem <b>homogen</b>, andernfalls <b>inhomogen</b>.\n",
    "\n",
    "Ein inhomogenes lineares Gleichungssystem über  $K =\\mathbb{R}$ hat keine, genau eine oder unendlich viele Lösungen.\n",
    "Ein homogenes lineares Gleichungssystem hat immer zumindest eine (die sogenannte 'triviale') Lösung, nämlich x1 = x2 = . . . = xn = 0. \n",
    "\n",
    "\n",
    "Wir können ein solches Gleichungssystem in Form einer erweiteren Koeffizientenmatrix notieren:\n",
    "$$\n",
    "A = \n",
    "\\left(\n",
    "\\begin{array}{c c c c | c}\n",
    "a_{11}x_1 & a_{12}x_2 & \\cdots & a_{1n}x_n  & b_1 \\\\\n",
    "a_{21}x_1 & a_{22}x_2 & \\cdots & a_{2n}x_n  &  b_2 \\\\\n",
    "\\vdots   & \\vdots     &  \\vdots & \\vdots & \\vdots \\\\\n",
    "a_{m1}x_1 & a_ {m2}x_2 & · · · & a_{mn}x_n &  b_m\\\\\n",
    "\\end{array}\n",
    "\\right)\n",
    "$$\n",
    "\n",
    "Wir können ein solches Gleichungssystem umformen, indem wir eine dieser <b>Zeilenumformungen</b> anwenden:\n",
    "\n",
    "* Vertauschen von zwei Zeilen\n",
    "* Multiplikation einer Zeile mit einer Zahl $\\lambda$ (wobei $\\lambda \\ne 0$ und $\\lambda \\in \\mathbb{R}$ )\n",
    "* Addition des $\\lambda$-fachen einer Zeile zu einer anderen Zeile \n",
    "\n",
    "Eine Matrix ist in <b>Zeilenstufenform</b>, wenn\n",
    "* Zeilen, die nur Nullen enthalten, in den unter Zeilen der umgeformten Matrix stehen\n",
    "* das erste Element in jeder Zeile eine 1 ist\n",
    "* die führende 1 in jeder Zeile rechts von der führenden 1 darüber steht\n",
    "\n",
    "Die Anzahl der Zeilen, die nicht aus Nullen bestehen, nennt man den <b>Rang</b> der Matrix. Diese Zeilen enthalten alle Informationen zum Lösen der Matrix. \n",
    "\n",
    "Eine Matrix ist in <b>reduzierter Zeilenstufenform</b>, wenn außerdem\n",
    "* über jeder führenden 1 Nullen stehen\n"
   ]
  },
  {
   "cell_type": "markdown",
   "metadata": {},
   "source": [
    "# Matrizen in numpy"
   ]
  },
  {
   "cell_type": "markdown",
   "metadata": {},
   "source": [
    "Matrizen kann man mit der Methode matrix anlegen. Die Werte können einfach mit Leerzeichen getrennt in eine Zeile geschrieben werden. Ein Semikolon markiert eine neue Zeile. "
   ]
  },
  {
   "cell_type": "code",
   "execution_count": 2,
   "metadata": {},
   "outputs": [
    {
     "data": {
      "text/plain": [
       "matrix([[ 2,  5, 12,  4],\n",
       "        [ 3,  7,  2,  5],\n",
       "        [ 1,  3, 11,  1]])"
      ]
     },
     "execution_count": 2,
     "metadata": {},
     "output_type": "execute_result"
    }
   ],
   "source": [
    "import numpy as np\n",
    "A = np.matrix('2, 5, 12 4; 3, 7, 2, 5; 1, 3, 11, 1')\n",
    "A"
   ]
  },
  {
   "cell_type": "markdown",
   "metadata": {},
   "source": [
    "Anzeige der Dimension leider nicht mit 'dim', sondern mit dem Attribut 'shape':"
   ]
  },
  {
   "cell_type": "code",
   "execution_count": 3,
   "metadata": {},
   "outputs": [
    {
     "data": {
      "text/plain": [
       "(3, 4)"
      ]
     },
     "execution_count": 3,
     "metadata": {},
     "output_type": "execute_result"
    }
   ],
   "source": [
    "A.shape"
   ]
  },
  {
   "cell_type": "markdown",
   "metadata": {},
   "source": [
    "Man kann in numpy sehr einfach einer Matrix eine neue Dimension zuweisen, auch wenn das nur unter sehr bestimmten Bedingungen eine sinnvolle Operation ist."
   ]
  },
  {
   "cell_type": "code",
   "execution_count": 4,
   "metadata": {},
   "outputs": [
    {
     "data": {
      "text/plain": [
       "matrix([[ 2,  5],\n",
       "        [12,  4],\n",
       "        [ 3,  7],\n",
       "        [ 2,  5],\n",
       "        [ 1,  3],\n",
       "        [11,  1]])"
      ]
     },
     "execution_count": 4,
     "metadata": {},
     "output_type": "execute_result"
    }
   ],
   "source": [
    "A.reshape (6, 2)"
   ]
  },
  {
   "cell_type": "markdown",
   "metadata": {},
   "source": [
    "Das Rechnen mit Matrizen funktioniert fast genau so, wie man es erwarten würde: "
   ]
  },
  {
   "cell_type": "code",
   "execution_count": 5,
   "metadata": {},
   "outputs": [
    {
     "data": {
      "text/plain": [
       "matrix([[ 2,  5, 12,  4],\n",
       "        [ 3,  7,  2,  5],\n",
       "        [ 1,  3, 11,  1]])"
      ]
     },
     "execution_count": 5,
     "metadata": {},
     "output_type": "execute_result"
    }
   ],
   "source": [
    "A"
   ]
  },
  {
   "cell_type": "code",
   "execution_count": 6,
   "metadata": {},
   "outputs": [
    {
     "data": {
      "text/plain": [
       "matrix([[3, 2, 1, 0],\n",
       "        [6, 5, 4, 3],\n",
       "        [9, 8, 7, 6]])"
      ]
     },
     "execution_count": 6,
     "metadata": {},
     "output_type": "execute_result"
    }
   ],
   "source": [
    "B = np.matrix('3, 2, 1, 0; 6, 5, 4, 3; 9, 8, 7, 6')\n",
    "B"
   ]
  },
  {
   "cell_type": "markdown",
   "metadata": {},
   "source": [
    "Addition von Matrizen:"
   ]
  },
  {
   "cell_type": "code",
   "execution_count": 7,
   "metadata": {},
   "outputs": [
    {
     "data": {
      "text/plain": [
       "matrix([[ 5,  7, 13,  4],\n",
       "        [ 9, 12,  6,  8],\n",
       "        [10, 11, 18,  7]])"
      ]
     },
     "execution_count": 7,
     "metadata": {},
     "output_type": "execute_result"
    }
   ],
   "source": [
    "A + B"
   ]
  },
  {
   "cell_type": "markdown",
   "metadata": {},
   "source": [
    "Multiplikation mit einem Skalar:"
   ]
  },
  {
   "cell_type": "code",
   "execution_count": 8,
   "metadata": {},
   "outputs": [
    {
     "data": {
      "text/plain": [
       "matrix([[ 6, 15, 36, 12],\n",
       "        [ 9, 21,  6, 15],\n",
       "        [ 3,  9, 33,  3]])"
      ]
     },
     "execution_count": 8,
     "metadata": {},
     "output_type": "execute_result"
    }
   ],
   "source": [
    "3 * A"
   ]
  },
  {
   "cell_type": "code",
   "execution_count": 9,
   "metadata": {},
   "outputs": [
    {
     "data": {
      "text/plain": [
       "matrix([[3, 2, 1],\n",
       "        [0, 6, 5],\n",
       "        [4, 3, 9],\n",
       "        [8, 7, 6]])"
      ]
     },
     "execution_count": 9,
     "metadata": {},
     "output_type": "execute_result"
    }
   ],
   "source": [
    "B = B.reshape(4, 3)\n",
    "B"
   ]
  },
  {
   "cell_type": "markdown",
   "metadata": {},
   "source": [
    "Multiplikation der Matrizen A (3, 4) und B (4, 3). Die neue Matrix hat die Dimension (3,3) "
   ]
  },
  {
   "cell_type": "code",
   "execution_count": 10,
   "metadata": {},
   "outputs": [
    {
     "data": {
      "text/plain": [
       "matrix([[ 86,  98, 159],\n",
       "        [ 57,  89,  86],\n",
       "        [ 55,  60, 121]])"
      ]
     },
     "execution_count": 10,
     "metadata": {},
     "output_type": "execute_result"
    }
   ],
   "source": [
    "A * B"
   ]
  },
  {
   "cell_type": "markdown",
   "metadata": {},
   "source": [
    "Einfaches Beispiel von oben:"
   ]
  },
  {
   "cell_type": "code",
   "execution_count": 11,
   "metadata": {},
   "outputs": [
    {
     "data": {
      "text/plain": [
       "matrix([[28, 36, 13],\n",
       "        [12, 20,  9],\n",
       "        [19, 30, 13]])"
      ]
     },
     "execution_count": 11,
     "metadata": {},
     "output_type": "execute_result"
    }
   ],
   "source": [
    "A = np.matrix('3 5;7 1;9 2')\n",
    "B = np.matrix('1  2  1; 5 6 2')\n",
    "A * B"
   ]
  },
  {
   "cell_type": "markdown",
   "metadata": {},
   "source": [
    "Inverse einer Matrix berechnen:"
   ]
  },
  {
   "cell_type": "code",
   "execution_count": 12,
   "metadata": {},
   "outputs": [
    {
     "data": {
      "text/plain": [
       "matrix([[3, 5],\n",
       "        [7, 1]])"
      ]
     },
     "execution_count": 12,
     "metadata": {},
     "output_type": "execute_result"
    }
   ],
   "source": [
    "X = np.matrix('3 5;7 1')\n",
    "X"
   ]
  },
  {
   "cell_type": "code",
   "execution_count": 13,
   "metadata": {},
   "outputs": [
    {
     "data": {
      "text/plain": [
       "matrix([[-0.03125,  0.15625],\n",
       "        [ 0.21875, -0.09375]])"
      ]
     },
     "execution_count": 13,
     "metadata": {},
     "output_type": "execute_result"
    }
   ],
   "source": [
    "Xinv = np.linalg.inv(X)\n",
    "Xinv"
   ]
  },
  {
   "cell_type": "code",
   "execution_count": 14,
   "metadata": {},
   "outputs": [
    {
     "data": {
      "text/plain": [
       "matrix([[ 1.,  0.],\n",
       "        [ 0.,  1.]])"
      ]
     },
     "execution_count": 14,
     "metadata": {},
     "output_type": "execute_result"
    }
   ],
   "source": [
    "#Matrix mal Inverse ergeben die Einheitsmatrix\n",
    "X * Xinv"
   ]
  },
  {
   "cell_type": "markdown",
   "metadata": {},
   "source": [
    "## Lineare Gleichungssysteme lösen"
   ]
  },
  {
   "cell_type": "markdown",
   "metadata": {},
   "source": [
    "Wenn wir ein Gleichungssystem als Matrix-Vektor-Multiplikation schreiben, also A eine Matrix ist, x ein Vektor mit den unbekannten x<sub>1</sub> bis x<sub>n</sub> und b der Lösungsvektor, so dass gilt:\n",
    "$$\n",
    "Ax = b\n",
    "$$\n",
    "dann kann man die Werte von x mit numpy so berechnen:\n",
    "\n",
    "```Python\n",
    "np.linalg.solve(A, b)\n",
    "```\n",
    "Ein Beispiel:"
   ]
  },
  {
   "cell_type": "code",
   "execution_count": 15,
   "metadata": {},
   "outputs": [
    {
     "name": "stdout",
     "output_type": "stream",
     "text": [
      "A = \n",
      " [[ 2  3 -1]\n",
      " [-1  1  1]\n",
      " [ 5  3 -9]]\n",
      "x =  [ 4.  9.  1.]\n"
     ]
    }
   ],
   "source": [
    "A = np.matrix('2 3 -1;-1 1 1;5 3 -9')\n",
    "print(\"A = \\n\", A)\n",
    "b = np.array([34, 6, 38])\n",
    "x = np.linalg.solve(A, b)\n",
    "print(\"x = \", x)"
   ]
  },
  {
   "cell_type": "markdown",
   "metadata": {},
   "source": [
    "Den Rang einer Matrix kann man mit `np.linalg.matrix_rank`  ermitteln:"
   ]
  },
  {
   "cell_type": "code",
   "execution_count": 16,
   "metadata": {},
   "outputs": [
    {
     "data": {
      "text/plain": [
       "3"
      ]
     },
     "execution_count": 16,
     "metadata": {},
     "output_type": "execute_result"
    }
   ],
   "source": [
    "np.linalg.matrix_rank(A)"
   ]
  },
  {
   "cell_type": "code",
   "execution_count": 17,
   "metadata": {},
   "outputs": [
    {
     "data": {
      "text/plain": [
       "(Matrix([\n",
       " [1.0,   0,   0],\n",
       " [  0, 1.0,   0],\n",
       " [  0,   0, 1.0]]), [0, 1, 2])"
      ]
     },
     "execution_count": 17,
     "metadata": {},
     "output_type": "execute_result"
    }
   ],
   "source": [
    "import sympy\n",
    "sympy.Matrix(A).rref()"
   ]
  },
  {
   "cell_type": "markdown",
   "metadata": {
    "collapsed": true
   },
   "source": [
    "# Literatur\n",
    "\n",
    "* Gerald und Susanne Teschl: Mathematik für Informatiker Bd.: 1: Diskrete Mathematik und lineare Algebra. Heidelberg: Springer 2011. (Kap. 9-14)\n",
    "* Tilo Arens et al.: Mathematik. 3. Aufl. Heidelberg: Springer 2015. (Teil III: Lineare Algebra)\n",
    "* Michael Ruhrländer: Lineare Algebra für Naturwissenschaftler und Ingenieure. Hallbergmoos: München 2017. "
   ]
  },
  {
   "cell_type": "code",
   "execution_count": null,
   "metadata": {
    "collapsed": true
   },
   "outputs": [],
   "source": []
  }
 ],
 "metadata": {
  "kernelspec": {
   "display_name": "Python [default]",
   "language": "python",
   "name": "python3"
  },
  "language_info": {
   "codemirror_mode": {
    "name": "ipython",
    "version": 3
   },
   "file_extension": ".py",
   "mimetype": "text/x-python",
   "name": "python",
   "nbconvert_exporter": "python",
   "pygments_lexer": "ipython3",
   "version": "3.6.2"
  },
  "toc": {
   "colors": {
    "hover_highlight": "#DAA520",
    "navigate_num": "#000000",
    "navigate_text": "#333333",
    "running_highlight": "#FF0000",
    "selected_highlight": "#FFD700",
    "sidebar_border": "#EEEEEE",
    "wrapper_background": "#FFFFFF"
   },
   "moveMenuLeft": true,
   "nav_menu": {
    "height": "471px",
    "width": "252px"
   },
   "navigate_menu": true,
   "number_sections": true,
   "sideBar": true,
   "threshold": 4,
   "toc_cell": true,
   "toc_section_display": "block",
   "toc_window_display": false,
   "widenNotebook": false
  }
 },
 "nbformat": 4,
 "nbformat_minor": 2
}
