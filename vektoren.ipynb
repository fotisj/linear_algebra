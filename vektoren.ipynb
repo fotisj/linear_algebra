{
 "cells": [
  {
   "cell_type": "markdown",
   "metadata": {},
   "source": [
    "# Vektoren"
   ]
  },
  {
   "cell_type": "code",
   "execution_count": 7,
   "metadata": {
    "collapsed": true
   },
   "outputs": [],
   "source": [
    "%matplotlib inline \n",
    "#ignore code\n",
    "import numpy as np\n",
    "from  matplotlib import pyplot as plt\n",
    "\n",
    "\n",
    "#some helper methods - ignore code\n",
    "def center_axes(ax):\n",
    "    \"\"\"\n",
    "    draw a central coordinate system instead the standard one \n",
    "    \"\"\"\n",
    "    ax.spines['left'].set_position('zero')\n",
    "    ax.spines['right'].set_color('none')\n",
    "    ax.spines['bottom'].set_position('zero')\n",
    "    ax.spines['top'].set_color('none')\n",
    "    ax.spines['left'].set_smart_bounds(True)\n",
    "    ax.spines['bottom'].set_smart_bounds(True)\n",
    "    ax.xaxis.set_ticks_position('bottom')\n",
    "    ax.yaxis.set_ticks_position('left')\n",
    "    ax.axhline(linewidth=1.5, color='k')\n",
    "    ax.axvline(linewidth=1.5, color='k')\n",
    "    return ax\n",
    "\n",
    "def draw_ticks(ax, x0, y0, x1, y1):\n",
    "    \"\"\"\n",
    "    work around a bug / feature that ticks are only drawn where datapoints are\n",
    "    \"\"\"\n",
    "    r1 = [i for i in range(x0, x1+1) if i != 0]\n",
    "    r2 = [i for i in range(y0, y1+1) if i != 0]\n",
    "    ax.set_xticks(r1)\n",
    "    ax.set_yticks(r2)    \n",
    "    ax.set_xlim(x0, x1) \n",
    "    ax.set_ylim(y0, y1)\n",
    "    ax.plot([x0],[y0] )\n",
    "    ax.plot([x1],[y1] )\n",
    "    return ax\n",
    "\n",
    "def draw_vector(ax, x0, y0, x1, y1):\n",
    "    \"\"\"\n",
    "    center coordinate system, fix ticks and draw a vector at\n",
    "    given coordinates\n",
    "    \"\"\"\n",
    "    ax.annotate(\"\", (x1, y1), xytext=(x0, y0), textcoords='data',\n",
    "                arrowprops=dict(arrowstyle=\"-|>\", \n",
    "                connectionstyle=\"arc3\")\n",
    "            )\n",
    "    ax.text(x1+0.2, y1, \"({},{})\".format(x1, y1))\n",
    "    return ax\n"
   ]
  },
  {
   "cell_type": "markdown",
   "metadata": {},
   "source": [
    "## Grundlagen\n",
    "Ein Vektor ist ein n-Tupel (a<sub>1</sub>, a<sub>2</sub>, ..., a<sub>n</sub>). Die Zahlen a<sub>1</sub>, a<sub>2</sub>, ..., a<sub>n</sub> sind im Information Retrieval zumeist reele Zahlen.  \n",
    "\n",
    "Sie nennt man die <b>Koordinaten des Vektors</b>. Eine häufig verwendete Schreibweise für einen Vektor x mit n Koordinaten, die reele Zahlen sind, lautet: \n",
    "\n",
    "$$\n",
    "x \\in ℝ^n\n",
    "$$\n",
    "\n",
    "Beispiel: a = (3, 1, 4) also a ∈ ℝ<sup>3</sup>\n",
    "\n",
    "<b>ℝ<sup>n</sup></b> ist der n-dimensionale Vektorraum.\n",
    "\n",
    "\n",
    "\n",
    "<b>Addition von Vektoren</b> (die Vektoren müssen die gleiche Länge haben)\n",
    "$$\n",
    "a = (a_1, ..., a_n) \\in ℝ^n  \n",
    "$$\n",
    "\n",
    "$$\n",
    "b = (b_1, ..., b_n) \\in ℝ^n  \n",
    "$$\n",
    "\n",
    "$$\n",
    "a + b = \\begin{pmatrix}\n",
    "a_1 + b_1\\\\\n",
    "\\vdots\\\\\n",
    "a_n + b_n\\\\\n",
    "\\end{pmatrix}\n",
    "$$\n",
    "\n",
    "<b>Multiplikation von Vektoren mit Skalaren</b> (einfachen Zahlen)\n",
    "\n",
    "$$\n",
    "a \\in ℝ^n  \n",
    "$$\n",
    "$$\n",
    "k \\in ℝ\n",
    "$$\n",
    "$$\n",
    "k \\cdot a = \\begin{pmatrix}\n",
    "ka_1\\\\\n",
    "\\vdots\\\\\n",
    "ka_n\n",
    "\\end{pmatrix}\n",
    "$$\n",
    "\n",
    "Beispiel 9.1 in Teschl: Vektoraddition und Multiplikation mit einem\n",
    "Skalar<lb/>\n",
    "\n",
    "Berechnen Sie:<lb/>\n",
    "\n",
    "a) 2a + 2(b − c) für a = (1, 2), b = (1, 0), c = (3, 4)<lb/>\n",
    "\n",
    "b) a = (1, 2), b = (3,−4, 0); kann a + b berechnet werden?<lb/>"
   ]
  },
  {
   "cell_type": "markdown",
   "metadata": {
    "collapsed": true
   },
   "source": [
    "a)\n",
    "\n",
    "$$\n",
    "2 \\begin{pmatrix}{1\\\\2}\\end{pmatrix}  + 2 \\left(\\begin{pmatrix}{1\\\\0}\\end{pmatrix} - \\begin{pmatrix}{3\\\\4}\\end{pmatrix}\\right) =  \\begin{pmatrix}{2\\\\4}\\end{pmatrix} + 2 \\begin{pmatrix}{-2\\\\-4}\\end{pmatrix} = \\begin{pmatrix}{2\\\\4}\\end{pmatrix} + \\begin{pmatrix}{-4\\\\-8}\\end{pmatrix} = \\begin{pmatrix}{-2\\\\-4}\\end{pmatrix}\n",
    "$$"
   ]
  },
  {
   "cell_type": "markdown",
   "metadata": {},
   "source": [
    "Aufgabe b:\n",
    "Nein, da die Vektoren unterschiedliche Dimensionen haben"
   ]
  },
  {
   "cell_type": "markdown",
   "metadata": {},
   "source": [
    "<b>Geometrisch interpretiert</b> ist ein Vektor mit n-Koordinaten ein Pfeil in einem n-dimensionalen Raum. Am einfachsten kann man ihn sich als Pfeil vorstellen, der im Ursprung, also den 0-Koordinaten, anfängt und bis zu dem Punkt geht, der durch das Tupel bezeichnet ist. Hier drei Vektoren ∈ ℝ<sup>2</sup>: (3,6), (7,2), (-4-3)."
   ]
  },
  {
   "cell_type": "code",
   "execution_count": 8,
   "metadata": {},
   "outputs": [
    {
     "data": {
      "image/png": "[encoded data removed]",
      "text/plain": [
       "<Figure size 504x504 with 1 Axes>"
      ]
     },
     "metadata": {},
     "output_type": "display_data"
    }
   ],
   "source": [
    "#ignore code\n",
    "fig, ax = plt.subplots()\n",
    "fig.set_size_inches(7,7)\n",
    "draw_vector(ax, 0, 0, -4, -3)\n",
    "draw_vector(ax, 0, 0, 3, 6 )\n",
    "draw_vector(ax, 0, 0, 7, 2 )\n",
    "draw_ticks(ax, -7, -7, 7, 7)\n",
    "center_axes(ax)\n",
    "plt.show()"
   ]
  },
  {
   "cell_type": "markdown",
   "metadata": {},
   "source": [
    "Vektoren mit ihrem Anfang im Ursprung des Koordinatensystems nennt man <b>Ortsvektoren</b>. Tatsächlich kann ein Vektor an jedem beliebigen Punkt anfangen. Sein Endpunkt verschiebt sich dann gegenüber dem Ortsvektor um die Verschiebung des Anfangs. Die folgenden Vektoren sind also alle gleich:"
   ]
  },
  {
   "cell_type": "code",
   "execution_count": 9,
   "metadata": {},
   "outputs": [
    {
     "data": {
      "image/png": "[encoded data removed]",
      "text/plain": [
       "<Figure size 504x504 with 1 Axes>"
      ]
     },
     "metadata": {},
     "output_type": "display_data"
    }
   ],
   "source": [
    "#ignore code\n",
    "fig, ax = plt.subplots()\n",
    "fig.set_size_inches(7,7)\n",
    "draw_vector(ax, 0, 0, 2, 3)\n",
    "draw_vector(ax, 2, 2, 4, 5 )\n",
    "draw_vector(ax, -3, 1, -1, 4 )\n",
    "draw_ticks(ax, -6, -1, 6, 6)\n",
    "center_axes(ax)\n",
    "plt.show()"
   ]
  },
  {
   "cell_type": "markdown",
   "metadata": {},
   "source": [
    "<b>Geometrische Interpretation der Addition von Vektoren</b>. Die Addition der Vektoren a+b kann man sich so vorstellen, dass an den Vektor a der Vektor b angehängt wird. \n",
    "\n",
    "Wenn a = (1,3) ist und b = (3,2), dann a + b = (4, 5)"
   ]
  },
  {
   "cell_type": "code",
   "execution_count": 4,
   "metadata": {},
   "outputs": [
    {
     "data": {
      "image/png": "[encoded data removed]",
      "text/plain": [
       "<Figure size 504x504 with 1 Axes>"
      ]
     },
     "metadata": {},
     "output_type": "display_data"
    }
   ],
   "source": [
    "#ignore code\n",
    "fig, ax = plt.subplots()\n",
    "fig.set_size_inches(7,7)\n",
    "draw_vector(ax, 0, 0, 1, 3)\n",
    "draw_vector(ax, 0, 0, 3, 2 )\n",
    "draw_vector(ax, 3, 2, 4, 5 )\n",
    "draw_vector(ax, 0, 0, 4, 5 )\n",
    "draw_ticks(ax, -1, -1, 6, 6)\n",
    "center_axes(ax)\n",
    "plt.show()"
   ]
  },
  {
   "cell_type": "markdown",
   "metadata": {},
   "source": [
    "<b>Geometrische Interpretation der Multiplikation von Vektoren mit einem Skalar</b>. Die Multiplikation k * a, wobei k ein Skalar ist und a ein Vektor, können wir als Streckung (wenn k > 1 oder k < -1) bzw. als Stauchung (wenn k < 1 und k > -1)"
   ]
  },
  {
   "cell_type": "markdown",
   "metadata": {},
   "source": [
    "k = 2\n",
    "\n",
    "a = (2, 3)\n",
    "\n",
    "k * a = (4, 6)"
   ]
  },
  {
   "cell_type": "code",
   "execution_count": 5,
   "metadata": {},
   "outputs": [
    {
     "data": {
      "image/png": "[encoded data removed]",
      "text/plain": [
       "<Figure size 504x504 with 1 Axes>"
      ]
     },
     "metadata": {},
     "output_type": "display_data"
    }
   ],
   "source": [
    "#ignore code\n",
    "fig, ax = plt.subplots()\n",
    "fig.set_size_inches(7,7)\n",
    "draw_vector(ax, 0, 0, 2, 3)\n",
    "draw_vector(ax, 0, 0, 4, 6 )\n",
    "draw_ticks(ax, -1, -1, 6, 6)\n",
    "center_axes(ax)\n",
    "plt.show()"
   ]
  },
  {
   "cell_type": "markdown",
   "metadata": {},
   "source": [
    "k = -3\n",
    "\n",
    "a = (1, 2)\n",
    "\n",
    "k * a = (-3, -6)"
   ]
  },
  {
   "cell_type": "code",
   "execution_count": 10,
   "metadata": {},
   "outputs": [
    {
     "data": {
      "image/png": "[encoded data removed]",
      "text/plain": [
       "<Figure size 504x504 with 1 Axes>"
      ]
     },
     "metadata": {},
     "output_type": "display_data"
    }
   ],
   "source": [
    "#ignore code\n",
    "fig, ax = plt.subplots()\n",
    "fig.set_size_inches(7,7)\n",
    "draw_vector(ax, 0, 0, 1, 2)\n",
    "draw_vector(ax, 0, 0, -3, -6 )\n",
    "draw_ticks(ax, -6, -6, 6, 6)\n",
    "center_axes(ax)\n",
    "plt.show()"
   ]
  },
  {
   "cell_type": "markdown",
   "metadata": {},
   "source": [
    "Die <b>Länge eines Vektors</b> oder der <b>Betrag eines Vektors</b> a ∈ ℝ<sup>2</sup> lässt sich mit dem  Satz des Pythagoras einfach berechnen, da die Länge des Vektors immer die Hypotenuse in einem Dreieck ist, dessen andere Seiten, durch die Koordinaten des Vektors gegeben sind. Da a<sup>2</sup> = a<sub>1</sub><sup>2</sup> + a<sub>2</sub><sup>2</sup> folgt daraus, dass\n",
    "$$\n",
    "\\|a\\| = \\sqrt{a_1^2 + a_2^2}\n",
    "$$\n",
    "\n",
    "Im folgenden Beispiel hat der Vektor die Koordinaten (5, 2). Entsprechend ist die Länge des Vektors \n",
    "$$\n",
    "\\|a\\| = \\sqrt{5^2 + 2^2}\n",
    "$$\n",
    "also ca. 5.38"
   ]
  },
  {
   "cell_type": "code",
   "execution_count": 8,
   "metadata": {},
   "outputs": [
    {
     "data": {
      "image/png": "[encoded data removed]",
      "text/plain": [
       "<Figure size 504x504 with 1 Axes>"
      ]
     },
     "metadata": {},
     "output_type": "display_data"
    }
   ],
   "source": [
    "#ignore code\n",
    "fig, ax = plt.subplots()\n",
    "fig.set_size_inches(7,7)\n",
    "draw_vector(ax, 0, 0, 5, 2)\n",
    "draw_ticks(ax, -1, -1, 6, 3)\n",
    "center_axes(ax)\n",
    "ax.arrow(5, 0, 0, 2)\n",
    "ax.text(5.2, 1, \"a2\", fontsize=14)\n",
    "ax.text(2.5, -0.4, \"a1\", fontsize=14)\n",
    "ax.text(2.5, 1.4, \"a\", fontsize=14)\n",
    "plt.show()"
   ]
  },
  {
   "cell_type": "markdown",
   "metadata": {},
   "source": [
    "Das kann man für eine beliebige Anzahl an Dimensionen verallgemeinern. Die <b>Länge eines Vektors</b> oder der <b>Betrag eines Vektors</b> a = (a<sub>1</sub>, a<sub>2</sub>, ..., a<sub>n</sub>) ∈ ℝ<sup>n</sup> ist also\n",
    "\n",
    "\n",
    "$$\n",
    "\\|a\\| = \\sqrt{\\sum_{j=1}^n{a_j^2}} = \\sqrt{a_1^2 + a_2^2 + ... + a_n^2}\n",
    "$$\n"
   ]
  },
  {
   "cell_type": "markdown",
   "metadata": {},
   "source": [
    "### Aufgabe\n",
    "Berechnen Sie für a = (4, 1, 8, 9), b = (22, 13, 93, 5)\n",
    "1. a + b\n",
    "2. 0.5 * b\n",
    "3. ∥a∥\n",
    "4. ∥b∥"
   ]
  },
  {
   "cell_type": "markdown",
   "metadata": {},
   "source": [
    "##  Vektorenrechnung mit numpy"
   ]
  },
  {
   "cell_type": "markdown",
   "metadata": {},
   "source": [
    "In numpy werden Vektoren als arrays eingegeben: "
   ]
  },
  {
   "cell_type": "code",
   "execution_count": 11,
   "metadata": {},
   "outputs": [
    {
     "data": {
      "text/plain": [
       "array([1, 2])"
      ]
     },
     "execution_count": 11,
     "metadata": {},
     "output_type": "execute_result"
    }
   ],
   "source": [
    "import numpy as np\n",
    "a = np.array([1,2])\n",
    "a"
   ]
  },
  {
   "cell_type": "markdown",
   "metadata": {},
   "source": [
    "Sie verhalten sich anders als Python-Listen:"
   ]
  },
  {
   "cell_type": "code",
   "execution_count": 12,
   "metadata": {},
   "outputs": [
    {
     "data": {
      "text/plain": [
       "[1, 2, 1, 2]"
      ]
     },
     "execution_count": 12,
     "metadata": {},
     "output_type": "execute_result"
    }
   ],
   "source": [
    "ap = [1, 2]\n",
    "2 * ap"
   ]
  },
  {
   "cell_type": "code",
   "execution_count": 13,
   "metadata": {},
   "outputs": [
    {
     "data": {
      "text/plain": [
       "array([2, 4])"
      ]
     },
     "execution_count": 13,
     "metadata": {},
     "output_type": "execute_result"
    }
   ],
   "source": [
    "2 * a"
   ]
  },
  {
   "cell_type": "markdown",
   "metadata": {},
   "source": [
    "Anders ausgedrückt: Listen verhalten sich zumeist nicht, wie man es aus der Vektorrechnung erwarten würde, während numpy arrays das tun. Noch ein Beispiel:"
   ]
  },
  {
   "cell_type": "code",
   "execution_count": 14,
   "metadata": {},
   "outputs": [
    {
     "data": {
      "text/plain": [
       "[1, 0, 3, 4]"
      ]
     },
     "execution_count": 14,
     "metadata": {},
     "output_type": "execute_result"
    }
   ],
   "source": [
    "u = [1,0]\n",
    "v = [3, 4]\n",
    "u + v"
   ]
  },
  {
   "cell_type": "code",
   "execution_count": 15,
   "metadata": {},
   "outputs": [
    {
     "data": {
      "text/plain": [
       "array([4, 4])"
      ]
     },
     "execution_count": 15,
     "metadata": {},
     "output_type": "execute_result"
    }
   ],
   "source": [
    "b = np.array([1,0])\n",
    "c = np.array([3,4])\n",
    "b + c"
   ]
  },
  {
   "cell_type": "markdown",
   "metadata": {},
   "source": [
    "Zu beachten ist, dass in numpy normalerweise kein prinzipieller Unterschied zwischen Spalten- und Zeilenvektoren gemacht wird, sondern beide als arrays eingegeben werden und der Anwender verstehen muss, was sie sind. Wenn der Unterschied wichtig ist, also wenn in einer Rechnung Spalten- und Zeilenvektoren gleichzeitig auftreten, dann kann man diese explizit als eine jeweils eindimensionale Matrix eingeben. "
   ]
  },
  {
   "cell_type": "code",
   "execution_count": 16,
   "metadata": {},
   "outputs": [
    {
     "data": {
      "text/plain": [
       "matrix([[1, 2, 3]])"
      ]
     },
     "execution_count": 16,
     "metadata": {},
     "output_type": "execute_result"
    }
   ],
   "source": [
    "np.matrix('1 2 3')"
   ]
  },
  {
   "cell_type": "code",
   "execution_count": 17,
   "metadata": {},
   "outputs": [
    {
     "data": {
      "text/plain": [
       "matrix([[1],\n",
       "        [2],\n",
       "        [3]])"
      ]
     },
     "execution_count": 17,
     "metadata": {},
     "output_type": "execute_result"
    }
   ],
   "source": [
    "e = np.matrix('1;2;3')\n",
    "e"
   ]
  },
  {
   "cell_type": "code",
   "execution_count": 18,
   "metadata": {},
   "outputs": [
    {
     "data": {
      "text/plain": [
       "matrix([[2],\n",
       "        [4],\n",
       "        [6]])"
      ]
     },
     "execution_count": 18,
     "metadata": {},
     "output_type": "execute_result"
    }
   ],
   "source": [
    "2 * e"
   ]
  },
  {
   "cell_type": "raw",
   "metadata": {},
   "source": [
    "Numpy enthält außerdem auch eine ganze Reihe mathematischer Funktionen, die so gestaltet sind, dass sie auf Vektoren (und später auch auf Matrizen) arbeiten. Einige Beispiele:"
   ]
  },
  {
   "cell_type": "code",
   "execution_count": 19,
   "metadata": {},
   "outputs": [
    {
     "data": {
      "text/plain": [
       "array([2., 3.])"
      ]
     },
     "execution_count": 19,
     "metadata": {},
     "output_type": "execute_result"
    }
   ],
   "source": [
    "a = np.array([4, 9])\n",
    "np.sqrt(a)  #square root = Zieht die Wurzel"
   ]
  },
  {
   "cell_type": "code",
   "execution_count": 20,
   "metadata": {},
   "outputs": [
    {
     "data": {
      "text/plain": [
       "array([16, 81], dtype=int32)"
      ]
     },
     "execution_count": 20,
     "metadata": {},
     "output_type": "execute_result"
    }
   ],
   "source": [
    "np.power(a, 2) #hoch zwei"
   ]
  },
  {
   "cell_type": "code",
   "execution_count": 21,
   "metadata": {},
   "outputs": [
    {
     "data": {
      "text/plain": [
       "13"
      ]
     },
     "execution_count": 21,
     "metadata": {},
     "output_type": "execute_result"
    }
   ],
   "source": [
    "np.sum(a) #addiert Werte des Vektors zu einem Skalar"
   ]
  },
  {
   "cell_type": "markdown",
   "metadata": {},
   "source": [
    "Wir können nun die Aufgaben vor diesem Abschnitt noch einmal rechnen.\n",
    "Berechnen Sie für a = (4, 1, 8, 9), b = (22, 13, 93, 5)\n",
    "\n",
    "1.    a + b\n",
    "2.    0.5 * b\n",
    "3.    ∥a∥\n",
    "4.    ∥b∥\n"
   ]
  },
  {
   "cell_type": "code",
   "execution_count": 23,
   "metadata": {},
   "outputs": [
    {
     "data": {
      "text/plain": [
       "array([ 26,  14, 101,  14])"
      ]
     },
     "execution_count": 23,
     "metadata": {},
     "output_type": "execute_result"
    }
   ],
   "source": [
    "a = np.arraya = ([4, 1, 8, 9])\n",
    "b = np.array([22, 13, 93, 5])\n",
    "#1.\n",
    "a + b"
   ]
  },
  {
   "cell_type": "code",
   "execution_count": 24,
   "metadata": {},
   "outputs": [
    {
     "data": {
      "text/plain": [
       "array([11. ,  6.5, 46.5,  2.5])"
      ]
     },
     "execution_count": 24,
     "metadata": {},
     "output_type": "execute_result"
    }
   ],
   "source": [
    "#2.\n",
    "0.5 * b"
   ]
  },
  {
   "cell_type": "code",
   "execution_count": 25,
   "metadata": {},
   "outputs": [
    {
     "data": {
      "text/plain": [
       "12.727922061357855"
      ]
     },
     "execution_count": 25,
     "metadata": {},
     "output_type": "execute_result"
    }
   ],
   "source": [
    "#3. \n",
    "np.sqrt(np.sum(np.power(a, 2)))"
   ]
  },
  {
   "cell_type": "code",
   "execution_count": 26,
   "metadata": {},
   "outputs": [
    {
     "data": {
      "text/plain": [
       "96.57639463140049"
      ]
     },
     "execution_count": 26,
     "metadata": {},
     "output_type": "execute_result"
    }
   ],
   "source": [
    "#4. \n",
    "np.sqrt(np.sum(np.power(b, 2)))"
   ]
  },
  {
   "cell_type": "markdown",
   "metadata": {},
   "source": [
    "### Aufgaben\n",
    "\n",
    "Berechnen Sie die Länge der folgenden Vektoren:\n",
    "1. a = (2, 22, 5, 55, 13)\n",
    "2. b = (32, 10, 1, 20, 20, 0, 0, 1, 12)\n",
    "\n",
    "Berechnen Sie \n",
    "3. 22 * a\n",
    "4. 0.45 * b\n",
    "5. Füllen Sie a mit 0 soweit, dass sie a + b berechnen können"
   ]
  },
  {
   "cell_type": "markdown",
   "metadata": {},
   "source": [
    "## Abstandsmaße für Vektoren\n",
    "Auf dieser Grundlage können wir nun auch den <b>Abstand zweier Punkte</b> berechnen. Beginnen wir wieder mit zwei Vektoren ∈ ℝ<sup>2</sup>. A = (1, 3) und B = (4, 2). Wie wir in der folgenden Abbildung sehen können, handelt es sich dabei um eine grade Linie zwischen den beiden Punkten. Dieser Abstand wird die <b>euklidische Distanz</b> genannt."
   ]
  },
  {
   "cell_type": "code",
   "execution_count": 6,
   "metadata": {},
   "outputs": [
    {
     "data": {
      "image/png": "[encoded data removed]",
      "text/plain": [
       "<Figure size 504x504 with 1 Axes>"
      ]
     },
     "metadata": {},
     "output_type": "display_data"
    }
   ],
   "source": [
    "#ignore code\n",
    "fig, ax = plt.subplots()\n",
    "fig.set_size_inches(7,7)\n",
    "draw_vector(ax, 0, 0, 1, 3)\n",
    "draw_vector(ax, 0, 0, 4, 2)\n",
    "#draw_vector(ax, 1, 3, 4, 2)\n",
    "ax.arrow(1, 3, 3, -1, ec='b')\n",
    "draw_ticks(ax, -1, -1, 5, 5)\n",
    "center_axes(ax)\n",
    "ax.text(1, 3, \"A\", fontsize=14)\n",
    "ax.text(4, 2, \"B\", fontsize=14)\n",
    "ax.text(2.3, 2.7, \"AB\", fontsize=14)\n",
    "plt.show()"
   ]
  },
  {
   "cell_type": "markdown",
   "metadata": {},
   "source": [
    "Wenn wir den Vektor AB so verschieben, dass er im Ursprung beginnt, können wir unsere Formel zur Berechnung des Betrags verwenden. Dazu müssen wir sozusagen den Vektor A umdrehen, dh. wir ziehen A von A ab, dann beginnt der Vektor im Ursprung. Nun müssen wir noch A von B abziehen, um den neuen Zielpunkt von AB zu berechnen. B-A, das sind die Koordinaten des verschobenen Vektors. Und nun können wir die Länge wie oben bestimmen:\n",
    "\n",
    "$$\n",
    "\\|\\overrightarrow{AB}\\| = \\sqrt{\\sum_{i=1}^2{(b_i-a_i)^2}} = \\sqrt{(b_1 - a_1)^2 + (b_2 - a_2)^2}\n",
    "$$\n",
    "\n",
    "Verallgemeinerung: Der <b>Abstand zweier Punkte</b> A = (a<sub>1</sub>, a<sub>2</sub>, ..., a<sub>n</sub>) und B = (b<sub>1</sub>, b<sub>2</sub>, ..., b<sub>n</sub>) ∈ ℝ<sup>n</sup> ist gleich \n",
    "\n",
    "$$\n",
    "\\|\\overrightarrow{AB}\\| = \\sqrt{\\sum_{i=1}^n{(b_i-a_i)^2}}  = \\sqrt{(b_1-a_1)^2 + ... + (b_n-a_n)^2}\n",
    "$$"
   ]
  },
  {
   "cell_type": "markdown",
   "metadata": {},
   "source": [
    "Beispiel 9.6 (Teschl S. 258) Länge eines Vektors, Abstand zweier Punkte\n",
    "\n",
    "a) Berechnen Sie ∥a∥ für a = (1, 2, 0,−1) ∈ R<sup>4</sup>.\n",
    "\n",
    "b) Berechnen Sie den Abstand der Punkte A = (1, 3, 0, 0) und B = (0, 1, 2, 1) im\n",
    "R<sup>4</sup>."
   ]
  },
  {
   "cell_type": "markdown",
   "metadata": {},
   "source": [
    "a) \n",
    "$$\n",
    "\\|a\\| = \\sqrt{1^2 + 2^2 + 0^2 + -1^2} = \\sqrt(6) \\approx 2.45\n",
    "$$"
   ]
  },
  {
   "cell_type": "code",
   "execution_count": 25,
   "metadata": {},
   "outputs": [
    {
     "data": {
      "text/plain": [
       "2.449489742783178"
      ]
     },
     "execution_count": 25,
     "metadata": {},
     "output_type": "execute_result"
    }
   ],
   "source": [
    "a = np.array([1,2,0,-1])\n",
    "np.sqrt(np.sum(np.power(a, 2)))\n"
   ]
  },
  {
   "cell_type": "code",
   "execution_count": 26,
   "metadata": {},
   "outputs": [
    {
     "data": {
      "text/plain": [
       "2.449489742783178"
      ]
     },
     "execution_count": 26,
     "metadata": {},
     "output_type": "execute_result"
    }
   ],
   "source": [
    "#a using a numpy method to calculate the length\n",
    "np.linalg.norm(a)"
   ]
  },
  {
   "cell_type": "markdown",
   "metadata": {},
   "source": [
    "b) \n",
    "$$\n",
    "\\|\\overrightarrow{AB}\\| = \\sqrt{(0-1)^2 + (1-3)^2 + (2-0)^2 + (1-0)^2} = \\sqrt{10} \\approx 3.16\n",
    "$$"
   ]
  },
  {
   "cell_type": "code",
   "execution_count": 27,
   "metadata": {},
   "outputs": [
    {
     "data": {
      "text/plain": [
       "3.1622776601683795"
      ]
     },
     "execution_count": 27,
     "metadata": {},
     "output_type": "execute_result"
    }
   ],
   "source": [
    "#b \n",
    "A = np.array([1, 3, 0, 0])\n",
    "B = np.array([0, 1, 2, 1])\n",
    "def euclid_distance(a, b):\n",
    "    return np.sqrt(np.sum(np.power(b-a, 2)))\n",
    "euclid_distance(A, B)"
   ]
  },
  {
   "cell_type": "markdown",
   "metadata": {},
   "source": [
    "Dieser Abstand ist die kürzeste Linie zwischen den beiden Punkten und wird auch der euklidische Abstand genannt. Es gibt mehrere Möglichkeiten, den Abstand zwischen zwei Punkten zu berechnen und insbesondere im maschinellen Lernen werden diese unterschiedlichen Möglichkeiten auch häufig verwendet. Die euklidische Distanz wird in diesem Kontext auch <b>L2-Norm</b> genannt.\n",
    "In der scipy Bibliothek gibt es eine Funktion, die gleich eine ganze Reihe von vergleichbaren Distanzmaßen implementiert. Allerdings erwartet sie, dass die Vektoren zusammen als Reihenvektoren in Form einer Matrix übergeben werden. Das macht man am einfachsten so:"
   ]
  },
  {
   "cell_type": "code",
   "execution_count": 28,
   "metadata": {
    "collapsed": true
   },
   "outputs": [],
   "source": [
    "X = np.array([A, B])"
   ]
  },
  {
   "cell_type": "code",
   "execution_count": 29,
   "metadata": {},
   "outputs": [
    {
     "data": {
      "text/plain": [
       "array([3.16227766])"
      ]
     },
     "execution_count": 29,
     "metadata": {},
     "output_type": "execute_result"
    }
   ],
   "source": [
    "import scipy.spatial.distance\n",
    "scipy.spatial.distance.pdist(X, metric='euclidean')"
   ]
  },
  {
   "cell_type": "markdown",
   "metadata": {},
   "source": [
    "Ein anderes, häufiger verwendetes Maß ist die <b>L1-Norm</b> (auch <b>Manhattan-Distanz</b> oder 'city block'-distance). Die Manhattan-Distanz berechnet sich aus der Summe der - in ℝ<sup>2</sup> - horizontalen und vertikalen Unterschiede, so als würde man in Manhattan die waagrechten und senkrechten Straßen zum Zielpunkt laufen:\n",
    "$$\n",
    "\\text{Manhattan distance} = \\|B-A\\| = \\sum_{i=0}^n{\\|b_1-a_1\\| + ... + \\|b_n-a_n\\|}\n",
    "$$"
   ]
  },
  {
   "cell_type": "code",
   "execution_count": 30,
   "metadata": {},
   "outputs": [
    {
     "data": {
      "image/png": "[encoded data removed]",
      "text/plain": [
       "<Figure size 504x504 with 1 Axes>"
      ]
     },
     "metadata": {},
     "output_type": "display_data"
    }
   ],
   "source": [
    "#ignore code\n",
    "#ignore code\n",
    "fig, ax = plt.subplots()\n",
    "fig.set_size_inches(7,7)\n",
    "draw_vector(ax, 0, 0, 1, 3)\n",
    "draw_vector(ax, 0, 0, 4, 2)\n",
    "ax.arrow(1, 3, 3, 0, ec='b')\n",
    "ax.arrow(4, 3, 0, -1, ec='b')\n",
    "draw_ticks(ax, -1, -1, 5, 5)\n",
    "center_axes(ax)\n",
    "ax.text(0.8, 3.0, \"A\", fontsize=14)\n",
    "ax.text(4.0, 1.8, \"B\", fontsize=14)\n",
    "#ax.text(2.3, 2.7, \"AB\", fontsize=14)\n",
    "plt.show()"
   ]
  },
  {
   "cell_type": "markdown",
   "metadata": {},
   "source": [
    "Rechenbeispiel:\n",
    "\n",
    "$$\n",
    "\\|B-A\\| = \\|4-1\\| + \\|2-3\\| = 3 + 1 = 4\n",
    "$$"
   ]
  },
  {
   "cell_type": "code",
   "execution_count": 31,
   "metadata": {},
   "outputs": [
    {
     "data": {
      "text/plain": [
       "4"
      ]
     },
     "execution_count": 31,
     "metadata": {},
     "output_type": "execute_result"
    }
   ],
   "source": [
    "A = np.array([1, 3])\n",
    "B = np.array([4, 2])\n",
    "def manhattan_distance(a, b):\n",
    "    return np.sum(np.absolute(b-a))\n",
    "manhattan_distance(A, B)    "
   ]
  },
  {
   "cell_type": "code",
   "execution_count": 32,
   "metadata": {},
   "outputs": [
    {
     "data": {
      "text/plain": [
       "array([4.])"
      ]
     },
     "execution_count": 32,
     "metadata": {},
     "output_type": "execute_result"
    }
   ],
   "source": [
    "X = np.array([A, B])\n",
    "scipy.spatial.distance.pdist(X, metric='cityblock')"
   ]
  },
  {
   "cell_type": "markdown",
   "metadata": {},
   "source": [
    "Wir wollen uns noch zwei weitere Maße anschauen. Das eine wegen seiner praktischen Wichtigkeit und das andere, weil es ein schönes Beispiel für Abstraktion ist. Beginnen wir mit dem Praktischen. Im Information Retrieval hat sich empirisch der <b>Kosinus des Winkels zwischen den Vektoren</b> als das beste Abstandsmaß erwiesen und das hat sich auch in der Stilometrie bestätigt, wo Burrows Delta nun so umformuliert wurde, dass statt der Manhattan Distanz nun der Kosinus verwendet wird. Wir müssen an dieser Stelle ein neues Konzept einführen: das <b>Skalarprodukt</b> zweier Vektoren, das auch das <b>innere Produkt</b> der Vektoren genannt wird:\n",
    "Wenn a und b Vektoren sind, dann gilt:\n",
    "$$\n",
    "a \\cdot b = \\|a\\| \\cdot \\|b\\| \\cdot \\text{cos }\\varphi \n",
    "$$\n",
    "wobei cos φ der Winkel zwischen den Vektoren ist. Gemessen wird immer der Winkel, der kleiner als 180° ist. Das Skalarprodukt ist, wie der Name schon andeutet, ein Skalar, also eine einfache Zahl. \n",
    "a ⋅ b = 0, wenn der Winkel zwischen den beiden Vektoren 90° beträgt. Die Vektoren sind dann <b>orthogonal</b>. \n",
    "\n",
    "Wenn man nun statt b a in die obige Formel einsetzt, erhält man diesen Ausdruck:\n",
    "$$\n",
    "a \\cdot a = \\|a\\| \\cdot \\|a\\| \\cdot \\text{cos }\\varphi \n",
    "$$\n",
    "\n",
    "Der Winkel zwischen einem Vektor und sich selbst beträgt 0°, und wir wissen, dass cos 0° = 1. Also können wir das so schreiben: \n",
    "\n",
    "$$\n",
    "a \\cdot a = \\|a\\| \\cdot \\|a\\| \n",
    "$$\n",
    "\n",
    "Zieht man nun auf beiden Seiten die Wurzel, dann können wir den Betrag von a in Abhängigkeit des Skalarprodukts bestimmen:\n",
    "\n",
    "$$\n",
    "\\|a\\| = \\sqrt{a \\cdot a}\n",
    "$$\n",
    "\n",
    "Man kann das Skalarprodukt auch  aus den Vektorkoordinaten errechnen (Ableitung siehe Laputa Bd. 1, S. 63):\n",
    "    \n",
    "$$\n",
    "a \\cdot b = \\begin{pmatrix}a_1\\\\a_2\\end{pmatrix} \\cdot \\begin{pmatrix}b_1\\\\b_2\\end{pmatrix} = a_1b_1 + a_2b_2\n",
    "$$\n",
    "\n"
   ]
  },
  {
   "cell_type": "markdown",
   "metadata": {},
   "source": [
    "Wir formen die obenstehende Gleichung um zu:\n",
    "    \n",
    "$$\n",
    "\\text{cos } \\varphi = \\frac{a\\cdot b}{\\|a\\| \\cdot \\|b\\|}\n",
    "$$\n",
    "\n",
    "Um das nun berechnen zu können, ersetzen wir die Ausdrücke durch äquivalente Ausdrücke mit Vektorkoordinaten. In den Zähler des Bruchs setzen wir den eben gezeigten Ausdruck. Und in den Nenner kommt der Ausdruck von oben, der zur Berechnung des Betrags diente:\n",
    "\n",
    "$$\n",
    "\\text{cos } \\varphi = \\frac{a\\cdot b}{\\|a\\| \\cdot \\|b\\|} = \\frac{a_1b_1 + a_2b_2}{\\sqrt{a_1^2 + a_2^2} \\cdot \\sqrt{b_1^2 + b_2^2}}\n",
    "$$\n",
    "\n",
    "Um nun den Winkel aus den Koordinaten berechnen zu können, müssen wir die Umkehrfunktion der Kosinusfunktion, arccos, verwenden:\n",
    "\n"
   ]
  },
  {
   "cell_type": "markdown",
   "metadata": {},
   "source": [
    "$$\n",
    "\\varphi = \\text{arccos } \\left(\\frac{a\\cdot b}{\\|a\\| \\cdot \\|b\\|} \\right) = \\text{arccos } \\left(\\frac{a_1b_1 + a_2b_2}{\\sqrt{a_1^2 + a_2^2} \\cdot \\sqrt{b_1^2 + b_2^2}}\\right)\n",
    "$$\n",
    "\n"
   ]
  },
  {
   "cell_type": "markdown",
   "metadata": {},
   "source": [
    "Schauen wir uns wieder ein Rechenbeispiel an. A = (1, 3), B = (4, 2)\n",
    "\n",
    "$$\n",
    "\\varphi = arccos \\left(\\frac{1 \\cdot 4 + 3 \\cdot 2}{\\sqrt{1^2 + 3^2} \\cdot \\sqrt{4^2 + 2^2}} \\right) = arccos \\left( \\frac{10}{\\sqrt{10} \\cdot \\sqrt{20}}\\right) = 45°\n",
    "$$"
   ]
  },
  {
   "cell_type": "markdown",
   "metadata": {},
   "source": [
    "An diesem Punkt ist es wichtig, einen nicht ganz offensichtlichen Unterschied genauer ins Auge zu fassen. Es handelt sich um den Unterschied zwischen einem Abstandsmaß und einer Ähnlichkeitsinformation. Ein Distanzmaß muss einige Anforderungen erfüllen (siehe <a href=\"\">Wikipedia</a>)\n",
    "\n",
    "1. \td ( x , y ) ≥ 0 \t       non-negativity or separation axiom \n",
    "2. \td ( x , y ) = 0 ⇔ x = y   identity of indiscernibles \n",
    "3. \td ( x , y ) = d ( y , x )  symmetry\n",
    "4. \td ( x , z ) ≤ d ( x , y ) + d ( y , z ) triangle inequality\n",
    "\n",
    "Eine Folge dieser Eigenschaften besteht darin, dass man Distanzmaße sinnvoll addieren und subtrahieren kann und auch einen Durchschnitt bilden kann. \n",
    "\n",
    "Ähnlichkeitsmaße dagegen können durchaus negativ sein, z.B. Korrelation. Ähnlichkeiten kann man nicht addieren, subtrahieren oder einen Durchschnitt bilden. Allerdings kann man sie neu skalieren. Das bekannteste Ähnlichkeitsmaß im Information Retrieval ist die Kosinus-Ähnlichkeit. Die Formel, die wir oben für cos φ gesehen haben, berechnet die Ähnlichkeit zwischen den Vektoren. Sie ist <i>kein</i> Distanzmaß. Allerdings gibt es ein einfaches Verfahren, um aus einer Ähnlichkeitsinformation (Ä) ein Distanzmaß (D) zu machen: D = 1 - Ä. So berechnet z.B. scipy die Funktion in <a href=\"https://docs.scipy.org/doc/scipy-0.14.0/reference/generated/scipy.spatial.distance.cosine.html\">scipy.spatial.distance.cosine</a>. \n",
    "Im folgenden berechnen wir den Winkel, die Ähnlichkeit sowie die Distanz für zwei Vektoren und vergleichen das Ergebnis mit der scipy-Funktion:\n",
    "\n"
   ]
  },
  {
   "cell_type": "code",
   "execution_count": 33,
   "metadata": {},
   "outputs": [
    {
     "name": "stdout",
     "output_type": "stream",
     "text": [
      "Angle:  45.00000000000001\n",
      "Cosine similarity:  0.7071067811865475\n",
      "Cosine distance:  0.29289321881345254\n",
      "Using scipy's pdist:  [0.29289322]\n"
     ]
    }
   ],
   "source": [
    "import math\n",
    "a = np.array([1, 3])\n",
    "b = np.array([4, 2])\n",
    "\n",
    "def vector_angle(a, b):\n",
    "    num = a[0]*b[0] + a[1]*b[1]\n",
    "    denom = math.sqrt(a[0]**2 + a[1]**2) * math.sqrt(b[0]**2 + b[1]**2)\n",
    "    return math.degrees(math.acos(num/denom))\n",
    "\n",
    "def cosine_similarity(a, b):\n",
    "    num = a[0]*b[0] + a[1]*b[1]\n",
    "    denom = math.sqrt(a[0]**2 + a[1]**2) * math.sqrt(b[0]**2 + b[1]**2)\n",
    "    return num/denom\n",
    "\n",
    "def cosine_distance(a, b):\n",
    "    num = a[0]*b[0] + a[1]*b[1]\n",
    "    denom = math.sqrt(a[0]**2 + a[1]**2) * math.sqrt(b[0]**2 + b[1]**2)\n",
    "    return 1 - (num/denom)\n",
    "\n",
    "#math.acos(math.degrees(z/n))\n",
    "#math.degrees(math.acos(-6/ (5 * math.sqrt(13))))\n",
    "\n",
    "print(\"Angle: \", vector_angle(a,b))\n",
    "print(\"Cosine similarity: \", cosine_similarity(a, b))\n",
    "print(\"Cosine distance: \", cosine_distance(a, b))\n",
    "print(\"Using scipy's pdist: \", scipy.spatial.distance.pdist(np.array([a,b]), metric='cosine'))\n",
    "\n"
   ]
  },
  {
   "cell_type": "code",
   "execution_count": 35,
   "metadata": {},
   "outputs": [
    {
     "data": {
      "image/png": "[encoded data removed]",
      "text/plain": [
       "<Figure size 504x504 with 1 Axes>"
      ]
     },
     "metadata": {},
     "output_type": "display_data"
    }
   ],
   "source": [
    "#ignore code\n",
    "from matplotlib.patches import Arc\n",
    "fig, ax = plt.subplots()\n",
    "fig.set_size_inches(7,7)\n",
    "draw_vector(ax, 0, 0, 1, 3)\n",
    "draw_vector(ax, 0, 0, 4, 2)\n",
    "draw_ticks(ax, -1, -1, 5, 5)\n",
    "center_axes(ax)\n",
    "angle = Arc([0,0], 2, 2, 45, -22, 30)\n",
    "ax.add_patch(angle)\n",
    "ax.text(0.8, 3.0, \"A\", fontsize=14)\n",
    "ax.text(4.0, 1.8, \"B\", fontsize=14)\n",
    "ax.text(0.3, 0.5, \"45°\", fontsize=12)\n",
    "#ax.text(2.3, 2.7, \"AB\", fontsize=14)\n",
    "plt.show()"
   ]
  },
  {
   "cell_type": "code",
   "execution_count": 36,
   "metadata": {},
   "outputs": [
    {
     "name": "stdout",
     "output_type": "stream",
     "text": [
      "Angle x/a:  18.434948822922017\n",
      "Angle b/y:  26.565051177077994\n",
      "Sum of all:  90.00000000000003\n"
     ]
    }
   ],
   "source": [
    "#check results\n",
    "x = np.array([0,3])\n",
    "y = np.array([4,0])\n",
    "print(\"Angle x/a: \", vector_angle(x,a))\n",
    "print(\"Angle b/y: \", vector_angle(b,y))\n",
    "print(\"Sum of all: \", vector_angle(x,a) + vector_angle(b,y) + vector_angle(a,b))"
   ]
  },
  {
   "cell_type": "markdown",
   "metadata": {},
   "source": [
    "Das zweite Distanzmaß, das wir uns anschauen wollen, ist eine Gruppe von Maßen und eine Verallgemeinerung der euklidischen Distanz. Es wird die <b>Minkowski-Distanz</b> genannt. Erinnern wir uns, die Formel für die euklidische Distanz zwischen a und b lautete:\n",
    "\n",
    "$$\n",
    "d_e(a,b) = \\sqrt{\\sum_{i=1}^n{(b_i-a_i)^2}} \n",
    "$$\n",
    "\n",
    "Hier wird erst einmal etwas mit zwei potenziert und dann die Wurzel gezogen. Das kann man so schreiben (wir unterscheiden nun zwischen dem Betrag und der Potenzierung):\n",
    "\n",
    "$$\n",
    "d_e(a,b) = \\left[\\sum_{i=1}^n{\\|b_i-a_i\\|^2}\\right]^{\\frac{1}{2}}\n",
    "$$\n",
    "\n",
    "Jetzt sieht man auch schon, wie eine Verallgemeinerung aussehen könnte. Statt der 2 kann man eigentlich einen freien Faktor wählen:\n",
    "\n",
    "$$\n",
    "d_e(a,b) = \\left[\\sum_{i=1}^n{\\|b_i-a_i\\|^p}\\right]^{\\frac{1}{p}}\n",
    "$$\n",
    "\n",
    "D.h. die euklidische Distanz ist ein Sonderfall der Minkowski-Distanz, nämlich p=2. Wenn wir p=1 setzen, dann haben wir einen anderen Sonderfall vor uns: die Manhattan- oder Cityblock-Distanz."
   ]
  },
  {
   "cell_type": "code",
   "execution_count": 37,
   "metadata": {},
   "outputs": [
    {
     "data": {
      "text/plain": [
       "array([6.])"
      ]
     },
     "execution_count": 37,
     "metadata": {},
     "output_type": "execute_result"
    }
   ],
   "source": [
    "x = np.array([2,5])\n",
    "y = np.array([7,4])\n",
    "X = np.array([x, y])\n",
    "scipy.spatial.distance.pdist(X, metric='minkowski', p=1) #cityblock/Manhattan distance"
   ]
  },
  {
   "cell_type": "code",
   "execution_count": 38,
   "metadata": {},
   "outputs": [
    {
     "data": {
      "text/plain": [
       "6"
      ]
     },
     "execution_count": 38,
     "metadata": {},
     "output_type": "execute_result"
    }
   ],
   "source": [
    "manhattan_distance(x, y)"
   ]
  },
  {
   "cell_type": "code",
   "execution_count": 39,
   "metadata": {},
   "outputs": [
    {
     "data": {
      "text/plain": [
       "5.0990195135927845"
      ]
     },
     "execution_count": 39,
     "metadata": {},
     "output_type": "execute_result"
    }
   ],
   "source": [
    "euclid_distance(x, y)"
   ]
  },
  {
   "cell_type": "code",
   "execution_count": 40,
   "metadata": {},
   "outputs": [
    {
     "data": {
      "text/plain": [
       "array([5.09901951])"
      ]
     },
     "execution_count": 40,
     "metadata": {},
     "output_type": "execute_result"
    }
   ],
   "source": [
    "scipy.spatial.distance.pdist(X, metric='minkowski', p=2) #euclidean distance"
   ]
  },
  {
   "cell_type": "code",
   "execution_count": 41,
   "metadata": {},
   "outputs": [
    {
     "data": {
      "text/plain": [
       "array([5.01329793])"
      ]
     },
     "execution_count": 41,
     "metadata": {},
     "output_type": "execute_result"
    }
   ],
   "source": [
    "scipy.spatial.distance.pdist(X, metric='minkowski', p=3) "
   ]
  },
  {
   "cell_type": "code",
   "execution_count": 42,
   "metadata": {},
   "outputs": [
    {
     "data": {
      "text/plain": [
       "array([5.0019988])"
      ]
     },
     "execution_count": 42,
     "metadata": {},
     "output_type": "execute_result"
    }
   ],
   "source": [
    "scipy.spatial.distance.pdist(X, metric='minkowski', p=4)"
   ]
  },
  {
   "cell_type": "markdown",
   "metadata": {},
   "source": []
  },
  {
   "cell_type": "markdown",
   "metadata": {},
   "source": [
    "## Einheitsvektor\n",
    "\n",
    "Einen Vektor der Länge 1 nennt man einen <b>Einheitsvektor</b> (engl.: unit vector). Für jeden Vektor gib es einen Einheitsvektor, der in die gleiche Richtung weist wie der Vektor, aber eben nur die Länge 1 hat. Beziehung zwischen dem Vektor (a) und dem Einheitsvektor (â) und dem Betrag des Vektors (∥a∥): \n",
    "$$\n",
    "\\hat{a} = \\frac{a}{\\|a\\|} \n",
    "$$"
   ]
  },
  {
   "cell_type": "code",
   "execution_count": null,
   "metadata": {
    "collapsed": true
   },
   "outputs": [],
   "source": []
  },
  {
   "cell_type": "markdown",
   "metadata": {},
   "source": [
    "Rechenbeispiel für a = (2, 3)\n",
    "$$\n",
    "\\hat{a} = \\frac{1}{\\sqrt{2^2 + 3^2}}\\cdot \\begin{pmatrix}2\\\\3\\end{pmatrix} = \\begin{pmatrix}\\frac{2}{\\sqrt{13}}\\\\\\frac{3}{\\sqrt{13}}\\end{pmatrix} \\approx \\begin{pmatrix}0.55\\\\0.83\\end{pmatrix}\n",
    "$$"
   ]
  },
  {
   "cell_type": "code",
   "execution_count": 43,
   "metadata": {},
   "outputs": [
    {
     "data": {
      "image/png": "[encoded data removed]",
      "text/plain": [
       "<Figure size 504x504 with 1 Axes>"
      ]
     },
     "metadata": {},
     "output_type": "display_data"
    }
   ],
   "source": [
    "#ignore code\n",
    "fig, ax = plt.subplots()\n",
    "c = plt.Circle((0, 0), 1, color='g', alpha=0.2)\n",
    "fig.set_size_inches(7,7)\n",
    "draw_vector(ax, 0, 0, 2, 3)\n",
    "draw_vector(ax, 0, 0, 0.55, 0.83)\n",
    "draw_ticks(ax, -1, -1, 3, 3)\n",
    "center_axes(ax)\n",
    "ax.add_artist(c)\n",
    "plt.show()"
   ]
  },
  {
   "cell_type": "markdown",
   "metadata": {},
   "source": [
    "Die gleiche Rechnung mit numpy:"
   ]
  },
  {
   "cell_type": "code",
   "execution_count": 44,
   "metadata": {
    "collapsed": true
   },
   "outputs": [],
   "source": [
    "a = np.array([2,3])"
   ]
  },
  {
   "cell_type": "code",
   "execution_count": 45,
   "metadata": {},
   "outputs": [
    {
     "data": {
      "text/plain": [
       "array([0.5547002 , 0.83205029])"
      ]
     },
     "execution_count": 45,
     "metadata": {},
     "output_type": "execute_result"
    }
   ],
   "source": [
    "#using np and doing it explicitly\n",
    "a * 1/np.sqrt(np.sum(np.power(a, 2)))"
   ]
  },
  {
   "cell_type": "code",
   "execution_count": 46,
   "metadata": {},
   "outputs": [
    {
     "data": {
      "text/plain": [
       "array([0.5547002 , 0.83205029])"
      ]
     },
     "execution_count": 46,
     "metadata": {},
     "output_type": "execute_result"
    }
   ],
   "source": [
    "#using the fact that a(hat) = a divided by the norm of a\n",
    "a / np.linalg.norm(a)"
   ]
  },
  {
   "cell_type": "markdown",
   "metadata": {},
   "source": [
    "Im maschinellen Lernen werden Daten häufig normalisiert, damit die Zahlenwerte der Daten nicht sehr unterschiedlichen Größenordnungen belegen. Dabei wird das Skalieren der Daten auf den Einheitsvektor häufig verwendet. Nach der Normalisierung ergibt die Summe aller quadrierten Daten eines Datensatzes 1. Wenig verwunderlich also, dass es in scikit learn eine entsprechende Bibliothek gibt:\n"
   ]
  },
  {
   "cell_type": "code",
   "execution_count": 47,
   "metadata": {},
   "outputs": [
    {
     "data": {
      "text/plain": [
       "array([[0.5547002 , 0.83205029]])"
      ]
     },
     "execution_count": 47,
     "metadata": {},
     "output_type": "execute_result"
    }
   ],
   "source": [
    "import sklearn.preprocessing\n",
    "a = a.reshape(1, -1) #avoid deprecation warning...\n",
    "a = np.array(a, dtype='float') #sklearns preprocessing wants to have floats as input\n",
    "sklearn.preprocessing.normalize(a, norm='l2') #actually l2 is the default"
   ]
  },
  {
   "cell_type": "markdown",
   "metadata": {},
   "source": [
    "<b>Beziehung zwischen Kosinus-Distanz und Einheitsvektor</b>\n",
    "Mit dem Wissen darüber, wie man den Einheitsvektor berechnet, können wir jetzt noch einmal einen Blick auf die Kosinus-Ähnlichkeit werfen:\n",
    "    \n",
    "$$\n",
    "\\text{cos } \\varphi = \\frac{a\\cdot b}{\\|a\\| \\cdot \\|b\\|}\n",
    "$$\n",
    "\n",
    "Da der Einheitsvektor für a so ausgedrückt werden kann: \n",
    "\n",
    "$$\n",
    "\\hat{a} = \\frac{a}{\\|a\\|} \n",
    "$$\n",
    "\n",
    "können wir nun die Kosinus-Ähnlichkeit folgendermaßen umformen: \n",
    "\n",
    "$$\n",
    "\\text{cos } \\varphi = \\frac{a\\cdot b}{\\|a\\| \\cdot \\|b\\|} = \\frac{a}{\\|a\\|} \\cdot \\frac{b}{\\|b\\|} =  \\hat{a} \\hat{b}\n",
    "$$\n",
    "\n",
    "Was bedeutet das inhaltlich? Es zeigt, dass wir bei der Berechnung der Kosinus-Ähnlichkeit von der Länge der Vektoren absehen und implizit eine Normalisierung der Vektoren auf den jeweiligen Einheitsvektor vornehmen. "
   ]
  },
  {
   "cell_type": "markdown",
   "metadata": {},
   "source": [
    "<b>Einheitsvektoren bei unterschiedlichem p in der Minkowski-Distanz</b>\n",
    "\n",
    "Wir können den Effekt des Exponenten p auch als Gewichtung begreifen: Er beeinflusst, in welcher Weise die Vektorkoordinaten bei der Berechnung der Distanz gewichtet werden. Die folgende Grafik zeigt die Einheitsvektoren für n=2, also für Vektoren mit zwei Koordinaten (x und y) bei unterschiedlichem p. Wir sehen, wie im Fall von p=2, also der euklidischen Distanz, die beiden Faktoren in gleicher Weise in die Kalkulation eingehen:\n",
    "\n",
    "Die folgende Grafik zeigt\n",
    "<img src=\"images/2D_unit_balls.svg.png\"\\>\n",
    "[source: https://commons.wikimedia.org/wiki/File:2D_unit_balls.svg]\n",
    "\n",
    "Geht p gegen unendlich (letztes Bild rechts), dann wird nur noch die größere der beiden Koordinaten berechnet. "
   ]
  },
  {
   "cell_type": "markdown",
   "metadata": {
    "collapsed": true
   },
   "source": [
    "# Aufgaben"
   ]
  },
  {
   "cell_type": "markdown",
   "metadata": {},
   "source": [
    "Gegeben sind folgende Vektoren: \n",
    "\n",
    "a = (2, -3), b = (-1, 5), c = (3, 2)\n",
    "\n",
    "Berechnen Sie:\n",
    "1. s = a + 2b - 5c\n",
    "2.  ∥s∥\n",
    "3. Den Einheitsvektor zu s\n",
    "4.  Visualisieren Sie die Aufgabe und Ihre Ergebnisse (Sie können dazu den Code in diesem Notebook verwenden).\n"
   ]
  },
  {
   "cell_type": "markdown",
   "metadata": {},
   "source": [
    "# Literatur\n",
    "Die Ausführungen beruhen zumeist auf Teschl. Im Punkt Abstandsmaße habe ich noch andere Maße hinzugenommen, siehe dafür z.B. Papula. Zur Verwendung von numpy vgl. VanderPlas.\n",
    "\n",
    "* Gerald und Susanne Teschl: Mathematik für Informatiker Bd.: 1: Diskrete Mathematik und lineare Algebra. Springer 2011. (<a href=\"https://link.springer.com/book/10.1007%2F978-3-642-37972-7\">pdf</a> nur im Hochschulnetz)\n",
    "* Lothar Papula: Mathematik für Ingenieure und Naturwissenschaftler Bd. 1. Springer 2009 (<a href=\"https://link.springer.com/book/10.1007/978-3-8348-9575-2\">pdf</a> nur im Hochschulnetz)\n",
    "* Jake VanderPlas: Python data science handbook: essential tools for working with data. Sebastopol u.a. 2016. (<a href=\"http://proquest.safaribooksonline.com/book/programming/python/9781491912126\">online</a> nur im Hochschulnetz)\n",
    "* Jim Hefferon: Linear Algebra (3rd edition). 2017. (<a href=\"http://joshua.smcvt.edu/linearalgebra/book.pdf\">pdf</a>)"
   ]
  },
  {
   "cell_type": "markdown",
   "metadata": {},
   "source": [
    "# Anhang\n",
    "\n",
    "Visualisierung der Minima "
   ]
  },
  {
   "cell_type": "code",
   "execution_count": 48,
   "metadata": {},
   "outputs": [
    {
     "name": "stdout",
     "output_type": "stream",
     "text": [
      "[3, 6, 7, 9, 12, 14, 18, 19, 20]\n"
     ]
    },
    {
     "name": "stderr",
     "output_type": "stream",
     "text": [
      "C:\\Anaconda3\\lib\\site-packages\\matplotlib\\axes\\_axes.py:6462: UserWarning: The 'normed' kwarg is deprecated, and has been replaced by the 'density' kwarg.\n",
      "  warnings.warn(\"The 'normed' kwarg is deprecated, and has been \"\n"
     ]
    },
    {
     "data": {
      "image/png": "[encoded data removed]",
      "text/plain": [
       "<Figure size 504x504 with 1 Axes>"
      ]
     },
     "metadata": {},
     "output_type": "display_data"
    }
   ],
   "source": [
    "import numpy as np\n",
    "from matplotlib import pyplot as plt\n",
    "from scipy.spatial.distance import pdist\n",
    "import seaborn as sns\n",
    "\n",
    "def dist(a, b, max_mink_p):\n",
    "    results_ = []\n",
    "    for i in range(max_mink_p+1):\n",
    "        results_.append(pdist([a, b], metric='minkowski', p=i))\n",
    "    return results_.index(min(results_))\n",
    "\n",
    "\n",
    "def main():\n",
    "    n = 2  # n-tuple, number of coordinates in vector\n",
    "    j = 1000  # number of runs\n",
    "    p = 20  # Minkowski exponent\n",
    "    aresults = []\n",
    "\n",
    "    for i in range(j):\n",
    "        a = np.random.randint(low=1000, size=n)\n",
    "        b = np.random.randint(low=1000, size=n)\n",
    "        aresults.append(dist(a, b, p))\n",
    "\n",
    "    print(sorted(set(aresults)))\n",
    "    plt.figure(figsize=(7,7))\n",
    "    sns.set(color_codes=True)\n",
    "    sns.distplot(aresults, bins=p, kde=False)\n",
    "    plt.xlabel(\"exponent p\", fontsize=18)\n",
    "    plt.ylabel(\"Number of minima\", fontsize=18)\n",
    "    plt.title(\"Distribution of minima for different p\", fontsize=22)\n",
    "    plt.xticks(np.arange(p))\n",
    "    plt.show()\n",
    "\n",
    "\n",
    "   \n",
    "main()    \n"
   ]
  },
  {
   "cell_type": "markdown",
   "metadata": {
    "collapsed": true
   },
   "source": [
    "# Lineare Unabhängigkeit von Vektoren\n",
    "\n",
    "Wenn wir Vektoren im 2D-Raum, also auf einer Fläche, beschreiben, dann machen wir das zumeist in dieser Form:\n",
    "\n",
    "$$\n",
    "A = \\begin{pmatrix}2\\\\ 3\\end{pmatrix}\n",
    "$$\n",
    "\n",
    "Was bedeutet das denn genau? Es besagt, dass wir den Vektor A als Summe zweier Vektoren schreiben können, nämlich des Einheitsvektors e<sub>x</sub> und e<sub>y</sub>:"
   ]
  },
  {
   "cell_type": "code",
   "execution_count": 49,
   "metadata": {},
   "outputs": [
    {
     "data": {
      "text/plain": [
       "<matplotlib.axes._subplots.AxesSubplot at 0x17d7c002b38>"
      ]
     },
     "execution_count": 49,
     "metadata": {},
     "output_type": "execute_result"
    },
    {
     "data": {
      "image/png": "[encoded data removed]",
      "text/plain": [
       "<Figure size 576x576 with 1 Axes>"
      ]
     },
     "metadata": {},
     "output_type": "display_data"
    }
   ],
   "source": [
    "def draw_vector_c(ax, x0, y0, x1, y1, color):\n",
    "    ax.annotate(\"\", (x1, y1), xytext=(x0, y0), textcoords='data',\n",
    "                arrowprops=dict(arrowstyle=\"-|>\", ec=color,\n",
    "                connectionstyle=\"arc3\")\n",
    "            )\n",
    "    ax.text(x1+0.2, y1, \"({},{})\".format(x1, y1))\n",
    "\n",
    "fig, ax = plt.subplots()\n",
    "fig.set_size_inches(8,8)\n",
    "draw_vector_c(ax, 0, 0.04, 1, 0.04, color='blue')\n",
    "draw_vector_c(ax, 0.04, 0, 0.04, 1, color='blue')\n",
    "draw_vector_c(ax, 0, -0.04, 2, -0.04, color='green')\n",
    "draw_vector_c(ax, -0.03, 0, -0.03, 3, color='green')\n",
    "ax.text(0.5, 0.1, \"e0\")\n",
    "ax.text(0.1, 0.5, \"e1\")\n",
    "ax.text(1.3, 2.2, \"A\")\n",
    "ax.text(1.5, -0.15, \"a\")\n",
    "ax.text(0.1, 2, \"b\")\n",
    "\n",
    "\n",
    "draw_vector_c(ax, 0, 0, 2, 3, color='black')\n",
    "\n",
    "\n",
    "draw_ticks(ax, -1, -1, 4, 4)\n",
    "center_axes(ax)\n",
    "\n"
   ]
  },
  {
   "cell_type": "markdown",
   "metadata": {},
   "source": [
    "Der Vektor A kann als Summe der Vektoren a und b geschrieben werden:\n",
    "\n",
    "$$ a = \\begin{pmatrix}2\\\\0\\end{pmatrix}$$\n",
    "$$ b = \\begin{pmatrix}0\\\\3\\end{pmatrix}$$\n",
    "$$ A = a + b$$\n",
    "\n",
    "Nun können wir aber den Vektor a auch in Bezug zum Einheitsvektor e0 ausdrücken:\n",
    "$$ a = 2 e_0 = 2  \\begin{pmatrix}1\\\\0\\end{pmatrix}$$\n",
    "Und das gleiche können wir mit b in Bezug auf den Einheitsvektor e<sub>1</sub> machen: \n",
    "$$b = 3 e_1 = 3  \\begin{pmatrix}0\\\\1\\end{pmatrix}$$\n",
    "\n",
    "Das heißt, wir können den Vektor A in Bezug auf die Einheitsvektoren ausdrücken:\n",
    "\n",
    "$$ A = 2 e_0 + 3 e_1 = 2  \\begin{pmatrix}1\\\\0\\end{pmatrix} + 3  \\begin{pmatrix}0\\\\1\\end{pmatrix}$$\n",
    "\n",
    "Das ist es, was die uns bekannte Schreibung von A letztendlich bedeutet:\n",
    "\n",
    "$$A = \\begin{pmatrix}2\\\\3\\end{pmatrix}$$\n"
   ]
  },
  {
   "cell_type": "markdown",
   "metadata": {},
   "source": [
    "Die lineare Unabhängigkeit von Vektoren liegt dann vor, wenn nicht einer der Vektoren - geometrisch gesehen - in der gleichen Dimension liegt wie ein anderer. In 2D: Der 2. Vektor darf nicht in einer Verlängerung des ersten liegen, vielmehr muss er so liegen, dass zwischen dem ersten und dem zweiten die Fläche aufgespannt wird. Stellen wir uns drei Vektoren im 3D-Raum vor. Solange die drei Vektoren nicht auf einer Ebene liegen, sondern jeder Vektor eine neue Dimension eröffnet, sind sie linear unabhängig."
   ]
  },
  {
   "cell_type": "code",
   "execution_count": 66,
   "metadata": {},
   "outputs": [
    {
     "data": {
      "text/plain": [
       "array([1.41421356])"
      ]
     },
     "execution_count": 66,
     "metadata": {},
     "output_type": "execute_result"
    }
   ],
   "source": [
    "a = [0,1, 1, ]\n",
    "b = [-1,0, 1]\n",
    "a = [0,1,1,1,1,1,1,1,1,1,1,1,1,1,1,1,1,1,1,1,1,1,1,1,1,1,1,1,0,0,0,0,0,0,0,0,0,0,0,0,0,0,0]\n",
    "b = [1,0,1,1,1,1,1,1,1,1,1,1,1,1,1,1,1,1,1,1,1,1,1,1,1,1,1,1,0,0,0,0,0,0,0,0,0,0,0,0,0,0,0]\n",
    "\n",
    "scipy.spatial.distance.pdist(np.array([a[:8],b[:8]]), metric='euclidean')"
   ]
  },
  {
   "cell_type": "code",
   "execution_count": null,
   "metadata": {
    "collapsed": true
   },
   "outputs": [],
   "source": []
  }
 ],
 "metadata": {
  "kernelspec": {
   "display_name": "Python [default]",
   "language": "python",
   "name": "python3"
  },
  "language_info": {
   "codemirror_mode": {
    "name": "ipython",
    "version": 3
   },
   "file_extension": ".py",
   "mimetype": "text/x-python",
   "name": "python",
   "nbconvert_exporter": "python",
   "pygments_lexer": "ipython3",
   "version": "3.6.2"
  },
  "toc": {
   "colors": {
    "hover_highlight": "#DAA520",
    "navigate_num": "#000000",
    "navigate_text": "#333333",
    "running_highlight": "#FF0000",
    "selected_highlight": "#FFD700",
    "sidebar_border": "#EEEEEE",
    "wrapper_background": "#FFFFFF"
   },
   "moveMenuLeft": true,
   "nav_menu": {},
   "navigate_menu": true,
   "number_sections": true,
   "sideBar": true,
   "skip_h1_title": false,
   "threshold": 4,
   "toc_cell": false,
   "toc_position": {
    "height": "507px",
    "left": "0px",
    "right": "719.2px",
    "top": "107px",
    "width": "100px"
   },
   "toc_section_display": "none",
   "toc_window_display": true,
   "widenNotebook": false
  }
 },
 "nbformat": 4,
 "nbformat_minor": 2
}
